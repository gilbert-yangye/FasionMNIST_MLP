{
  "cells": [
    {
      "cell_type": "markdown",
      "metadata": {
        "id": "view-in-github",
        "colab_type": "text"
      },
      "source": [
        "<a href=\"https://colab.research.google.com/github/gilbert-yy/FasionMNIST_MLP/blob/main/FasionMNIST.ipynb\" target=\"_parent\"><img src=\"https://colab.research.google.com/assets/colab-badge.svg\" alt=\"Open In Colab\"/></a>"
      ]
    },
    {
      "cell_type": "markdown",
      "source": [
        "# 1. **Original Implementation**"
      ],
      "metadata": {
        "id": "Xh2_WNzHyJlY"
      },
      "id": "Xh2_WNzHyJlY"
    },
    {
      "cell_type": "markdown",
      "source": [
        "## 1.1 Network:\n",
        "\n",
        "- 2 convolutional layers (with ReLU nonlinearity);\n",
        "- 2 fully connected layers (with ReLU nonlinearity);\n",
        "- 1 linear output layer\n"
      ],
      "metadata": {
        "id": "gJaqyN1WyemL"
      },
      "id": "gJaqyN1WyemL"
    },
    {
      "cell_type": "code",
      "execution_count": null,
      "id": "explicit-frederick",
      "metadata": {
        "id": "explicit-frederick"
      },
      "outputs": [],
      "source": [
        "#!/usr/bin/env python\n",
        "# coding: utf-8\n",
        "\n",
        "import torch\n",
        "import torch.nn as nn\n",
        "import torchvision\n",
        "import torchvision.transforms as transforms\n",
        "import numpy as np\n",
        "from matplotlib import pyplot as plt\n",
        "\n",
        "def output_label(label):\n",
        "    output_mapping = {\n",
        "                 0: \"T-shirt/Top\",\n",
        "                 1: \"Trouser\",\n",
        "                 2: \"Pullover\",\n",
        "                 3: \"Dress\",\n",
        "                 4: \"Coat\", \n",
        "                 5: \"Sandal\", \n",
        "                 6: \"Shirt\",\n",
        "                 7: \"Sneaker\",\n",
        "                 8: \"Bag\",\n",
        "                 9: \"Ankle Boot\"\n",
        "                 }\n",
        "    input = (label.item() if type(label) == torch.Tensor else label)\n",
        "    return output_mapping[input]\n",
        "\n",
        "\n",
        "class FashionCNN(nn.Module):   \n",
        "    def __init__(self):\n",
        "        super(FashionCNN, self).__init__()\n",
        "        \n",
        "        self.layer1 = nn.Sequential(\n",
        "            nn.Conv2d(in_channels=1, out_channels=32, kernel_size=3, padding=1),\n",
        "            nn.BatchNorm2d(32),\n",
        "            nn.ReLU(),\n",
        "            nn.MaxPool2d(kernel_size=2, stride=2)\n",
        "        )\n",
        "        \n",
        "        self.layer2 = nn.Sequential(\n",
        "            nn.Conv2d(in_channels=32, out_channels=64, kernel_size=3),\n",
        "            nn.BatchNorm2d(64),\n",
        "            nn.ReLU(),\n",
        "            nn.MaxPool2d(kernel_size=2, stride=2)\n",
        "        )\n",
        "        \n",
        "        self.fc1 = nn.Sequential(\n",
        "            nn.Linear(in_features=64*6*6, out_features=600),\n",
        "            nn.ReLU()\n",
        "        )\n",
        "#        self.drop = nn.Dropout(0.25)\n",
        "        \n",
        "        self.fc2 = nn.Sequential(\n",
        "            nn.Linear(in_features=600, out_features=10),\n",
        "            nn.ReLU()\n",
        "        )\n",
        "        \n",
        "        self.fc3 = nn.Linear(in_features=10, out_features=10)\n",
        "        \n",
        "    def forward(self, x):\n",
        "        out = self.layer1(x)\n",
        "        out = self.layer2(out)\n",
        "        out = out.view(out.size(0), -1)\n",
        "        out = self.fc1(out)\n",
        "#        out = self.drop(out)\n",
        "        out = self.fc2(out)\n",
        "        out = self.fc3(out)\n",
        "        \n",
        "        return out\n",
        "\n"
      ]
    },
    {
      "cell_type": "markdown",
      "source": [
        "## 1.2 Dataset loading and train-test split\n",
        "- **Train-test split: 50-50**"
      ],
      "metadata": {
        "id": "DprPfbZly-mx"
      },
      "id": "DprPfbZly-mx"
    },
    {
      "cell_type": "code",
      "execution_count": null,
      "id": "expensive-employment",
      "metadata": {
        "colab": {
          "base_uri": "https://localhost:8080/",
          "height": 453,
          "referenced_widgets": [
            "3649683104584e979ecf82ebfc57efce",
            "9c048617ad46425ca44a59608adde02c",
            "2c7e5ac1d52842ffb698f4e199a26c4c",
            "30eedb123e9049b0ac9cee7fd37ee78e",
            "bb3e5cd27661401881be77e767039807",
            "c7507968d4b9405f80e5a0445a5b99b2",
            "6689dee87b994160936a69d6784ee33b",
            "756aac057acc48689cdce4d91495931e",
            "a7480687a56245bb814ab66bc0c6760c",
            "bffa7d1f084342caaedddcdd203de5d0",
            "453283c2891d463e9080a553c367eb9d",
            "84d3edd502f245f2bf9f2cb3478f4836",
            "9fea771e71b648dea249c59c1b0c4f98",
            "adbc245bb2a94500b762b6407316267b",
            "c9b57a548ad645719574695a0ce39e7f",
            "53174f7c9ede4550893caa6b03ca1376",
            "3c5d63351e144e6a984f9c7d4f6d26a0",
            "5dde5f8940d7498f92784a422e5565fa",
            "db23da2366d2442bb59f5bc4da0d5a3f",
            "fc05abe448b44d5cbd5526d501b1c572",
            "0864b019818d45ec9d7eee82a0f21878",
            "b50f365b2ef04e8192db780aff306a1f",
            "1623cffe4fde4d3e938e5b60209872e5",
            "18a5165af98143a2953c759179d0e240",
            "e1669fc8dda4497a85313a321c2f3c76",
            "79d94bb08a9741c198d994afa55110cb",
            "f19a95944429493f90179e3f874957f0",
            "e3d7dd2a3e804093adab5671631f53e8",
            "d0f1efcbc458490cab94f028153e7283",
            "13c11aa8568f4e159cba51588004af41",
            "5437033a82fb4ab1a15c21c9f9a9de44",
            "d3b5c078e3c84df8a5bf1edcf05b765f",
            "f8f88f7b0e444bd9abac9a927897cc76",
            "46f1e7c26ff3460184007ee8ff145fd7",
            "955bee57c5c246739881094a0cd24d3e",
            "5569746c4f5c479f9b4e2e46249b536f",
            "a4a0d2fbdea043b9a4a6c7a5aaa3703d",
            "1e44ff6f8def47d68abae543073f905e",
            "98c5acf882f443ca9ffaaf11fa3613dc",
            "25856698f1ed44d3a0daaf48c2249a3b",
            "01ef3f28209e466489febc427f4b3909",
            "380d2b92f1eb41639e0fe68f9546e1c6",
            "4b54f0aecbaa4d649f78c8fb48bae360",
            "99530449c3c24b909cef516950d4a9bd"
          ]
        },
        "id": "expensive-employment",
        "outputId": "cfedc38d-5d65-4069-d17c-38d954637bc2"
      },
      "outputs": [
        {
          "output_type": "stream",
          "name": "stdout",
          "text": [
            "Device cpu\n",
            "Downloading http://fashion-mnist.s3-website.eu-central-1.amazonaws.com/train-images-idx3-ubyte.gz\n",
            "Downloading http://fashion-mnist.s3-website.eu-central-1.amazonaws.com/train-images-idx3-ubyte.gz to ./data/FashionMNIST/raw/train-images-idx3-ubyte.gz\n"
          ]
        },
        {
          "output_type": "display_data",
          "data": {
            "text/plain": [
              "  0%|          | 0/26421880 [00:00<?, ?it/s]"
            ],
            "application/vnd.jupyter.widget-view+json": {
              "version_major": 2,
              "version_minor": 0,
              "model_id": "3649683104584e979ecf82ebfc57efce"
            }
          },
          "metadata": {}
        },
        {
          "output_type": "stream",
          "name": "stdout",
          "text": [
            "Extracting ./data/FashionMNIST/raw/train-images-idx3-ubyte.gz to ./data/FashionMNIST/raw\n",
            "\n",
            "Downloading http://fashion-mnist.s3-website.eu-central-1.amazonaws.com/train-labels-idx1-ubyte.gz\n",
            "Downloading http://fashion-mnist.s3-website.eu-central-1.amazonaws.com/train-labels-idx1-ubyte.gz to ./data/FashionMNIST/raw/train-labels-idx1-ubyte.gz\n"
          ]
        },
        {
          "output_type": "display_data",
          "data": {
            "text/plain": [
              "  0%|          | 0/29515 [00:00<?, ?it/s]"
            ],
            "application/vnd.jupyter.widget-view+json": {
              "version_major": 2,
              "version_minor": 0,
              "model_id": "84d3edd502f245f2bf9f2cb3478f4836"
            }
          },
          "metadata": {}
        },
        {
          "output_type": "stream",
          "name": "stdout",
          "text": [
            "Extracting ./data/FashionMNIST/raw/train-labels-idx1-ubyte.gz to ./data/FashionMNIST/raw\n",
            "\n",
            "Downloading http://fashion-mnist.s3-website.eu-central-1.amazonaws.com/t10k-images-idx3-ubyte.gz\n",
            "Downloading http://fashion-mnist.s3-website.eu-central-1.amazonaws.com/t10k-images-idx3-ubyte.gz to ./data/FashionMNIST/raw/t10k-images-idx3-ubyte.gz\n"
          ]
        },
        {
          "output_type": "display_data",
          "data": {
            "text/plain": [
              "  0%|          | 0/4422102 [00:00<?, ?it/s]"
            ],
            "application/vnd.jupyter.widget-view+json": {
              "version_major": 2,
              "version_minor": 0,
              "model_id": "1623cffe4fde4d3e938e5b60209872e5"
            }
          },
          "metadata": {}
        },
        {
          "output_type": "stream",
          "name": "stdout",
          "text": [
            "Extracting ./data/FashionMNIST/raw/t10k-images-idx3-ubyte.gz to ./data/FashionMNIST/raw\n",
            "\n",
            "Downloading http://fashion-mnist.s3-website.eu-central-1.amazonaws.com/t10k-labels-idx1-ubyte.gz\n",
            "Downloading http://fashion-mnist.s3-website.eu-central-1.amazonaws.com/t10k-labels-idx1-ubyte.gz to ./data/FashionMNIST/raw/t10k-labels-idx1-ubyte.gz\n"
          ]
        },
        {
          "output_type": "display_data",
          "data": {
            "text/plain": [
              "  0%|          | 0/5148 [00:00<?, ?it/s]"
            ],
            "application/vnd.jupyter.widget-view+json": {
              "version_major": 2,
              "version_minor": 0,
              "model_id": "46f1e7c26ff3460184007ee8ff145fd7"
            }
          },
          "metadata": {}
        },
        {
          "output_type": "stream",
          "name": "stdout",
          "text": [
            "Extracting ./data/FashionMNIST/raw/t10k-labels-idx1-ubyte.gz to ./data/FashionMNIST/raw\n",
            "\n"
          ]
        }
      ],
      "source": [
        "\n",
        "device = torch.device(\"cuda:0\" if torch.cuda.is_available() else \"cpu\")\n",
        "print(\"Device\", device)\n",
        "\n",
        "full_set = torchvision.datasets.FashionMNIST(\"./data\", download=True, transform=\n",
        "            transforms.Compose([transforms.ToTensor()]))\n",
        "\n",
        "train_set, test_set = torch.utils.data.random_split(full_set, [int(len(full_set)/2), int(len(full_set)/2)])\n"
      ]
    },
    {
      "cell_type": "markdown",
      "source": [
        "## 1.3 Free parameters\n",
        "\n",
        "- imsizesq = 28\n",
        "- num_classes = 10\n",
        "- batch = 100\n",
        "- num_epochs = 10 # change here!!!!\n",
        "- learning_rate = 0.001"
      ],
      "metadata": {
        "id": "ViJMNm6dzpuD"
      },
      "id": "ViJMNm6dzpuD"
    },
    {
      "cell_type": "code",
      "source": [
        "# Parameter 1\n",
        "imsizesq = 28\n",
        "num_classes = 10\n",
        "batch = 100\n",
        "num_epochs = 10 # change here!!!!\n",
        "learning_rate = 0.001\n",
        "\n",
        "N_training = len(train_set)\n",
        "N_test = len(test_set)\n",
        "batch_Num_training = int(N_training/batch)\n",
        "batch_Num_test = int(N_test/batch)\n",
        "\n",
        "train_loader = torch.utils.data.DataLoader(train_set, batch_size = batch)\n",
        "test_loader = torch.utils.data.DataLoader(test_set, batch_size = batch)"
      ],
      "metadata": {
        "id": "U1fz6bzTw0xm"
      },
      "id": "U1fz6bzTw0xm",
      "execution_count": null,
      "outputs": []
    },
    {
      "cell_type": "markdown",
      "source": [
        "## 1.4 Training and plotting"
      ],
      "metadata": {
        "id": "tTjZxTZRz1Jc"
      },
      "id": "tTjZxTZRz1Jc"
    },
    {
      "cell_type": "code",
      "source": [
        "activation = {}\n",
        "def get_activation(name):\n",
        "    def hook(model, input, output):\n",
        "        activation[name] = output.detach()\n",
        "    return hook\n",
        "\n",
        "model = FashionCNN()\n",
        "model.to(device)\n",
        "model.fc2.register_forward_hook(get_activation('fc2'))\n",
        "model.fc1.register_forward_hook(get_activation('fc1'))\n",
        "model.layer2.register_forward_hook(get_activation('layer2'))\n",
        "\n",
        "error = nn.CrossEntropyLoss()\n",
        "optimizer = torch.optim.Adam(model.parameters(), lr=learning_rate)\n",
        "print(model)\n",
        "\n",
        "loss_hist = np.zeros(num_epochs)\n",
        "accuracy_hist = np.zeros(num_epochs)\n",
        "accuracy_test_hist = np.zeros(num_epochs)\n",
        "\n",
        "for epoch in range(num_epochs):\n",
        "    for images, labels in train_loader:\n",
        "        # Transfering images and labels to GPU if available\n",
        "        images, labels = images.to(device), labels.to(device)\n",
        "    \n",
        "        train = images.view(batch, 1, imsizesq, imsizesq)\n",
        "        \n",
        "        # Forward pass \n",
        "        outputs = model(train)\n",
        "        loss = error(outputs, labels)\n",
        "        \n",
        "        # Initializing a gradient as 0 so there is no mixing of gradient among the batches\n",
        "        optimizer.zero_grad()\n",
        "        \n",
        "        #Propagating the error backward\n",
        "        loss.backward()\n",
        "        \n",
        "        # Optimizing the parameters\n",
        "        optimizer.step()\n",
        "\n",
        "\n",
        "        is_correct = torch.max(outputs, 1)[1] == labels\n",
        "        accuracy_hist[epoch] += is_correct.sum()/N_training\n",
        "\n",
        "    loss_hist[epoch] = loss.data\n",
        "    \n",
        "\n",
        "    for images, labels in test_loader:\n",
        "        images, labels = images.to(device), labels.to(device)\n",
        "        test = images\n",
        "        outputs = model(test)\n",
        "        isCorrect = torch.max(outputs, 1)[1] == labels\n",
        "\n",
        "        accuracy_test_hist[epoch] += is_correct.sum()/N_test\n",
        "        \n",
        "        \n",
        "    print(\"Epoch: {}, Loss: {:.7f}, Training Accuracy {:.4f}; Test Accuracy {:.4f}\".format(epoch, loss.data, accuracy_hist[epoch], accuracy_test_hist[epoch]))\n",
        "\n",
        "\n",
        "\n",
        "class_correct = [0. for _ in range(num_classes)]\n",
        "total_correct = [0. for _ in range(num_classes)]\n",
        "\n",
        "with torch.no_grad():\n",
        "    for images, labels in test_loader:\n",
        "        images, labels = images.to(device), labels.to(device)\n",
        "        test = images\n",
        "        outputs = model(test)\n",
        "        predicted = torch.max(outputs, 1)[1]\n",
        "        c = (predicted == labels).squeeze()\n",
        "        \n",
        "        for i in range(batch):\n",
        "            label = labels[i]\n",
        "            class_correct[label] += c[i].item()\n",
        "            total_correct[label] += 1\n",
        "\n",
        "# Saving the fc2 layer outputs\n",
        "images_train = []\n",
        "train_data_labels = []\n",
        "output_train_layer2= []\n",
        "output_train_fc1 = []\n",
        "output_train_fc2 = []\n",
        "for images, labels in train_loader:\n",
        "        # Transfering images and labels to GPU if available\n",
        "        images, labels = images.to(device), labels.to(device)\n",
        "        train = images.view(batch, 1, imsizesq, imsizesq)\n",
        "        train_data_labels.append(labels)\n",
        "        outputs = model(train)\n",
        "\n",
        "        images_train.append(images)\n",
        "        output_train_layer2.append(activation[\"layer2\"])\n",
        "        output_train_fc1.append(activation[\"fc1\"])\n",
        "        output_train_fc2.append(activation[\"fc2\"])\n",
        "\n",
        "print(\"Test Set Accuracy\")      \n",
        "for i in range(num_classes):\n",
        "    print(\"Accuracy of {}: {:.2f}%\".format(output_label(i), class_correct[i] * 100 / total_correct[i]))\n",
        "\n",
        "\n",
        "\n",
        "images_test = []\n",
        "test_data_labels = []\n",
        "output_test_layer2= []\n",
        "output_test_fc1 = []\n",
        "output_test_fc2 = []\n",
        "for images, labels in test_loader:\n",
        "        # Transfering images and labels to GPU if available\n",
        "        images, labels = images.to(device), labels.to(device)\n",
        "        train = images.view(batch, 1, imsizesq, imsizesq)\n",
        "        outputs = model(train)\n",
        "        test_data_labels.append(labels)\n",
        "        \n",
        "        images_test.append(images)\n",
        "        output_test_layer2.append(activation[\"layer2\"])\n",
        "        output_test_fc1.append(activation[\"fc1\"])\n",
        "        output_test_fc2.append(activation[\"fc2\"])\n",
        "\n",
        "\n",
        "\n",
        "plt.figure()\n",
        "plt.plot(loss_hist)\n",
        "plt.xlabel(\"epoch\")\n",
        "plt.ylabel(\"BCE Loss\")\n",
        "plt.show()     \n",
        "\n",
        "plt.figure()\n",
        "plt.plot(accuracy_hist, label=\"training set accuracy\", color = \"orange\")\n",
        "plt.plot(accuracy_test_hist, label=\"test set accuracy\", color = \"blue\")\n",
        "plt.xlabel(\"epoch\")\n",
        "plt.ylabel(\"training and test set accuracies\")\n",
        "plt.legend()\n",
        "plt.show()"
      ],
      "metadata": {
        "colab": {
          "base_uri": "https://localhost:8080/",
          "height": 1338
        },
        "id": "PDAp5WD4Hqi3",
        "outputId": "f1d86e6c-7d33-4c90-f235-e84ce411c63b"
      },
      "id": "PDAp5WD4Hqi3",
      "execution_count": null,
      "outputs": [
        {
          "output_type": "stream",
          "name": "stdout",
          "text": [
            "FashionCNN(\n",
            "  (layer1): Sequential(\n",
            "    (0): Conv2d(1, 32, kernel_size=(3, 3), stride=(1, 1), padding=(1, 1))\n",
            "    (1): BatchNorm2d(32, eps=1e-05, momentum=0.1, affine=True, track_running_stats=True)\n",
            "    (2): ReLU()\n",
            "    (3): MaxPool2d(kernel_size=2, stride=2, padding=0, dilation=1, ceil_mode=False)\n",
            "  )\n",
            "  (layer2): Sequential(\n",
            "    (0): Conv2d(32, 64, kernel_size=(3, 3), stride=(1, 1))\n",
            "    (1): BatchNorm2d(64, eps=1e-05, momentum=0.1, affine=True, track_running_stats=True)\n",
            "    (2): ReLU()\n",
            "    (3): MaxPool2d(kernel_size=2, stride=2, padding=0, dilation=1, ceil_mode=False)\n",
            "  )\n",
            "  (fc1): Sequential(\n",
            "    (0): Linear(in_features=2304, out_features=600, bias=True)\n",
            "    (1): ReLU()\n",
            "  )\n",
            "  (fc2): Sequential(\n",
            "    (0): Linear(in_features=600, out_features=10, bias=True)\n",
            "    (1): ReLU()\n",
            "  )\n",
            "  (fc3): Linear(in_features=10, out_features=10, bias=True)\n",
            ")\n",
            "Epoch: 0, Loss: 0.2263353, Training Accuracy 0.8010; Test Accuracy 0.9100\n",
            "Epoch: 1, Loss: 0.1852151, Training Accuracy 0.8884; Test Accuracy 0.9500\n",
            "Epoch: 2, Loss: 0.1880439, Training Accuracy 0.9089; Test Accuracy 0.9500\n",
            "Epoch: 3, Loss: 0.1643000, Training Accuracy 0.9225; Test Accuracy 0.9500\n",
            "Epoch: 4, Loss: 0.1332469, Training Accuracy 0.9331; Test Accuracy 0.9500\n",
            "Epoch: 5, Loss: 0.0878249, Training Accuracy 0.9421; Test Accuracy 0.9600\n",
            "Epoch: 6, Loss: 0.0936451, Training Accuracy 0.9451; Test Accuracy 0.9500\n",
            "Epoch: 7, Loss: 0.0964142, Training Accuracy 0.9490; Test Accuracy 0.9700\n",
            "Epoch: 8, Loss: 0.1112991, Training Accuracy 0.9537; Test Accuracy 0.9500\n",
            "Epoch: 9, Loss: 0.0319508, Training Accuracy 0.9620; Test Accuracy 1.0000\n",
            "Test Set Accuracy\n",
            "Accuracy of T-shirt/Top: 80.74%\n",
            "Accuracy of Trouser: 95.87%\n",
            "Accuracy of Pullover: 82.28%\n",
            "Accuracy of Dress: 93.36%\n",
            "Accuracy of Coat: 86.73%\n",
            "Accuracy of Sandal: 98.39%\n",
            "Accuracy of Shirt: 82.36%\n",
            "Accuracy of Sneaker: 95.03%\n",
            "Accuracy of Bag: 97.10%\n",
            "Accuracy of Ankle Boot: 97.48%\n"
          ]
        },
        {
          "output_type": "display_data",
          "data": {
            "text/plain": [
              "<Figure size 432x288 with 1 Axes>"
            ],
            "image/png": "[encoded data removed]"
          },
          "metadata": {
            "needs_background": "light"
          }
        },
        {
          "output_type": "display_data",
          "data": {
            "text/plain": [
              "<Figure size 432x288 with 1 Axes>"
            ],
            "image/png": "[encoded data removed]"
          },
          "metadata": {
            "needs_background": "light"
          }
        }
      ]
    },
    {
      "cell_type": "markdown",
      "source": [
        "# 1.5. Play with the model architecture. Try a new network with **Tanh nonlinearity***; add an additional fc layer, and run everything again:\n"
      ],
      "metadata": {
        "id": "Z_SzuNYp1PbZ"
      },
      "id": "Z_SzuNYp1PbZ"
    },
    {
      "cell_type": "code",
      "source": [
        "#!/usr/bin/env python\n",
        "# coding: utf-8\n",
        "\n",
        "import torch\n",
        "import torch.nn as nn\n",
        "import torchvision\n",
        "import torchvision.transforms as transforms\n",
        "import numpy as np\n",
        "from matplotlib import pyplot as plt\n",
        "\n",
        "def output_label(label):\n",
        "    output_mapping = {\n",
        "                 0: \"T-shirt/Top\",\n",
        "                 1: \"Trouser\",\n",
        "                 2: \"Pullover\",\n",
        "                 3: \"Dress\",\n",
        "                 4: \"Coat\", \n",
        "                 5: \"Sandal\", \n",
        "                 6: \"Shirt\",\n",
        "                 7: \"Sneaker\",\n",
        "                 8: \"Bag\",\n",
        "                 9: \"Ankle Boot\"\n",
        "                 }\n",
        "    input = (label.item() if type(label) == torch.Tensor else label)\n",
        "    return output_mapping[input]\n",
        "\n",
        "\n",
        "class FashionCNN(nn.Module):   \n",
        "    def __init__(self):\n",
        "        super(FashionCNN, self).__init__()\n",
        "        \n",
        "        self.layer1 = nn.Sequential(\n",
        "            nn.Conv2d(in_channels=1, out_channels=32, kernel_size=3, padding=1),\n",
        "            nn.BatchNorm2d(32),\n",
        "            nn.ReLU(),\n",
        "            nn.MaxPool2d(kernel_size=2, stride=2)\n",
        "        )\n",
        "        \n",
        "        self.layer2 = nn.Sequential(\n",
        "            nn.Conv2d(in_channels=32, out_channels=64, kernel_size=3),\n",
        "            nn.BatchNorm2d(64),\n",
        "            nn.ReLU(),\n",
        "            nn.MaxPool2d(kernel_size=2, stride=2)\n",
        "        )\n",
        "        \n",
        "        self.fc1 = nn.Sequential(\n",
        "            nn.Linear(in_features=64*6*6, out_features=600),\n",
        "            nn.Tanh()\n",
        "        )\n",
        "#        self.drop = nn.Dropout(0.25)\n",
        "        \n",
        "        self.fc2 = nn.Sequential(\n",
        "            nn.Linear(in_features=600, out_features=200),\n",
        "            nn.Tanh()\n",
        "        )\n",
        "        \n",
        "        self.fc3 = nn.Sequential(\n",
        "            nn.Linear(in_features=200, out_features=10),\n",
        "            nn.Tanh()\n",
        "        )\n",
        "        self.fc4 = nn.Linear(in_features=10, out_features=10)\n",
        "        \n",
        "    def forward(self, x):\n",
        "        out = self.layer1(x)\n",
        "        out = self.layer2(out)\n",
        "        out = out.view(out.size(0), -1)\n",
        "        out = self.fc1(out)\n",
        "#        out = self.drop(out)\n",
        "        out = self.fc2(out)\n",
        "        out = self.fc3(out)\n",
        "        out = self.fc4(out)\n",
        "        \n",
        "        return out\n",
        "\n",
        "activation = {}\n",
        "def get_activation(name):\n",
        "    def hook(model, input, output):\n",
        "        activation[name] = output.detach()\n",
        "    return hook\n",
        "\n",
        "\n",
        "\n",
        "device = torch.device(\"cuda:0\" if torch.cuda.is_available() else \"cpu\")\n",
        "print(\"Device\", device)\n",
        "\n",
        "full_set = torchvision.datasets.FashionMNIST(\"./data\", download=True, transform=\n",
        "            transforms.Compose([transforms.ToTensor()]))\n",
        "\n",
        "train_set, test_set = torch.utils.data.random_split(full_set, [int(len(full_set)/2), int(len(full_set)/2)])\n",
        "\n",
        "\n",
        "# Parameter 1\n",
        "imsizesq = 28\n",
        "num_classes = 10\n",
        "batch = 100\n",
        "num_epochs = 10 # change here!!!!\n",
        "learning_rate = 0.001\n",
        "\n",
        "N_training = len(train_set)\n",
        "N_test = len(test_set)\n",
        "batch_Num_training = int(N_training/batch)\n",
        "batch_Num_test = int(N_test/batch)\n",
        "\n",
        "train_loader = torch.utils.data.DataLoader(train_set, batch_size = batch)\n",
        "test_loader = torch.utils.data.DataLoader(test_set, batch_size = batch)\n",
        "\n",
        "\n",
        "model = FashionCNN()\n",
        "model.to(device)\n",
        "model.fc2.register_forward_hook(get_activation('fc2'))\n",
        "model.fc1.register_forward_hook(get_activation('fc1'))\n",
        "model.layer2.register_forward_hook(get_activation('layer2'))\n",
        "\n",
        "error = nn.CrossEntropyLoss()\n",
        "optimizer = torch.optim.Adam(model.parameters(), lr=learning_rate)\n",
        "print(model)\n",
        "\n",
        "loss_hist = np.zeros(num_epochs)\n",
        "accuracy_hist = np.zeros(num_epochs)\n",
        "accuracy_test_hist = np.zeros(num_epochs)\n",
        "\n",
        "for epoch in range(num_epochs):\n",
        "    for images, labels in train_loader:\n",
        "        # Transfering images and labels to GPU if available\n",
        "        images, labels = images.to(device), labels.to(device)\n",
        "    \n",
        "        train = images.view(batch, 1, imsizesq, imsizesq)\n",
        "        \n",
        "        # Forward pass \n",
        "        outputs = model(train)\n",
        "        loss = error(outputs, labels)\n",
        "        \n",
        "        # Initializing a gradient as 0 so there is no mixing of gradient among the batches\n",
        "        optimizer.zero_grad()\n",
        "        \n",
        "        #Propagating the error backward\n",
        "        loss.backward()\n",
        "        \n",
        "        # Optimizing the parameters\n",
        "        optimizer.step()\n",
        "\n",
        "\n",
        "        is_correct = torch.max(outputs, 1)[1] == labels\n",
        "        accuracy_hist[epoch] += is_correct.sum()/N_training\n",
        "\n",
        "    loss_hist[epoch] = loss.data\n",
        "    \n",
        "\n",
        "    for images, labels in test_loader:\n",
        "        images, labels = images.to(device), labels.to(device)\n",
        "        test = images\n",
        "        outputs = model(test)\n",
        "        isCorrect = torch.max(outputs, 1)[1] == labels\n",
        "\n",
        "        accuracy_test_hist[epoch] += is_correct.sum()/N_test\n",
        "        \n",
        "        \n",
        "    print(\"Epoch: {}, Loss: {:.7f}, Training Accuracy {:.4f}; Test Accuracy {:.4f}\".format(epoch, loss.data, accuracy_hist[epoch], accuracy_test_hist[epoch]))\n",
        "\n",
        "\n",
        "\n",
        "class_correct = [0. for _ in range(num_classes)]\n",
        "total_correct = [0. for _ in range(num_classes)]\n",
        "\n",
        "# with torch.no_grad():\n",
        "#     for images, labels in test_loader:\n",
        "#         images, labels = images.to(device), labels.to(device)\n",
        "#         test = images\n",
        "#         outputs = model(test)\n",
        "#         predicted = torch.max(outputs, 1)[1]\n",
        "#         c = (predicted == labels).squeeze()\n",
        "        \n",
        "#         for i in range(batch):\n",
        "#             label = labels[i]\n",
        "#             class_correct[label] += c[i].item()\n",
        "#             total_correct[label] += 1\n",
        "\n",
        "# # Saving the fc2 layer outputs\n",
        "# images_train = []\n",
        "# output_train_layer2= []\n",
        "# output_train_fc1 = []\n",
        "# output_train_fc2 = []\n",
        "# for images, labels in train_loader:\n",
        "#         # Transfering images and labels to GPU if available\n",
        "#         images, labels = images.to(device), labels.to(device)\n",
        "#         train = images.view(batch, 1, imsizesq, imsizesq)\n",
        "#         outputs = model(train)\n",
        "#         images_train.append(images)\n",
        "#         output_train_layer2.append(activation[\"layer2\"])\n",
        "#         output_train_fc1.append(activation[\"fc1\"])\n",
        "#         output_train_fc2.append(activation[\"fc2\"])\n",
        "\n",
        "# print(\"Test Set Accuracy\")      \n",
        "# for i in range(num_classes):\n",
        "#     print(\"Accuracy of {}: {:.2f}%\".format(output_label(i), class_correct[i] * 100 / total_correct[i]))\n",
        "\n",
        "\n",
        "\n",
        "plt.figure()\n",
        "plt.plot(loss_hist)\n",
        "plt.xlabel(\"epoch\")\n",
        "plt.ylabel(\"BCE Loss\")\n",
        "plt.show()     \n",
        "\n",
        "plt.figure()\n",
        "plt.plot(accuracy_hist, label=\"training set accuracy\", color = \"orange\")\n",
        "plt.plot(accuracy_test_hist, label=\"test set accuracy\", color = \"blue\")\n",
        "plt.xlabel(\"epoch\")\n",
        "plt.ylabel(\"training and test set accuracies\")\n",
        "plt.legend()\n",
        "plt.show()"
      ],
      "metadata": {
        "colab": {
          "base_uri": "https://localhost:8080/",
          "height": 1000
        },
        "id": "F4Z0Iddm1Pu7",
        "outputId": "f2934011-3955-4595-c339-bc406bca3c4c"
      },
      "id": "F4Z0Iddm1Pu7",
      "execution_count": null,
      "outputs": [
        {
          "output_type": "stream",
          "name": "stdout",
          "text": [
            "Device cuda:0\n",
            "FashionCNN(\n",
            "  (layer1): Sequential(\n",
            "    (0): Conv2d(1, 32, kernel_size=(3, 3), stride=(1, 1), padding=(1, 1))\n",
            "    (1): BatchNorm2d(32, eps=1e-05, momentum=0.1, affine=True, track_running_stats=True)\n",
            "    (2): ReLU()\n",
            "    (3): MaxPool2d(kernel_size=2, stride=2, padding=0, dilation=1, ceil_mode=False)\n",
            "  )\n",
            "  (layer2): Sequential(\n",
            "    (0): Conv2d(32, 64, kernel_size=(3, 3), stride=(1, 1))\n",
            "    (1): BatchNorm2d(64, eps=1e-05, momentum=0.1, affine=True, track_running_stats=True)\n",
            "    (2): ReLU()\n",
            "    (3): MaxPool2d(kernel_size=2, stride=2, padding=0, dilation=1, ceil_mode=False)\n",
            "  )\n",
            "  (fc1): Sequential(\n",
            "    (0): Linear(in_features=2304, out_features=600, bias=True)\n",
            "    (1): Tanh()\n",
            "  )\n",
            "  (fc2): Sequential(\n",
            "    (0): Linear(in_features=600, out_features=200, bias=True)\n",
            "    (1): Tanh()\n",
            "  )\n",
            "  (fc3): Sequential(\n",
            "    (0): Linear(in_features=200, out_features=10, bias=True)\n",
            "    (1): Tanh()\n",
            "  )\n",
            "  (fc4): Linear(in_features=10, out_features=10, bias=True)\n",
            ")\n",
            "Epoch: 0, Loss: 0.7558125, Training Accuracy 0.7810; Test Accuracy 0.8000\n",
            "Epoch: 1, Loss: 0.4582707, Training Accuracy 0.8574; Test Accuracy 0.9000\n",
            "Epoch: 2, Loss: 0.3427929, Training Accuracy 0.8801; Test Accuracy 0.9000\n",
            "Epoch: 3, Loss: 0.3088357, Training Accuracy 0.8904; Test Accuracy 0.9300\n",
            "Epoch: 4, Loss: 0.2938429, Training Accuracy 0.8979; Test Accuracy 0.9200\n",
            "Epoch: 5, Loss: 0.2654333, Training Accuracy 0.9048; Test Accuracy 0.9300\n",
            "Epoch: 6, Loss: 0.2464838, Training Accuracy 0.9128; Test Accuracy 0.9000\n",
            "Epoch: 7, Loss: 0.2680857, Training Accuracy 0.9187; Test Accuracy 0.9100\n",
            "Epoch: 8, Loss: 0.2378616, Training Accuracy 0.9252; Test Accuracy 0.9100\n",
            "Epoch: 9, Loss: 0.1976045, Training Accuracy 0.9316; Test Accuracy 0.9400\n",
            "Test Set Accuracy\n",
            "Accuracy of T-shirt/Top: 80.76%\n",
            "Accuracy of Trouser: 96.75%\n",
            "Accuracy of Pullover: 90.55%\n",
            "Accuracy of Dress: 90.91%\n",
            "Accuracy of Coat: 78.88%\n",
            "Accuracy of Sandal: 96.70%\n",
            "Accuracy of Shirt: 77.77%\n",
            "Accuracy of Sneaker: 97.81%\n",
            "Accuracy of Bag: 96.31%\n",
            "Accuracy of Ankle Boot: 94.89%\n"
          ]
        },
        {
          "output_type": "display_data",
          "data": {
            "text/plain": [
              "<Figure size 432x288 with 1 Axes>"
            ],
            "image/png": "[encoded data removed]"
          },
          "metadata": {
            "needs_background": "light"
          }
        },
        {
          "output_type": "display_data",
          "data": {
            "text/plain": [
              "<Figure size 432x288 with 1 Axes>"
            ],
            "image/png": "[encoded data removed]"
          },
          "metadata": {
            "needs_background": "light"
          }
        }
      ]
    },
    {
      "cell_type": "markdown",
      "source": [
        "Succeed. But the performance is not as good as the first one. Let's use the first architecture in the rest of the project."
      ],
      "metadata": {
        "id": "ZjRoAvvn27fi"
      },
      "id": "ZjRoAvvn27fi"
    },
    {
      "cell_type": "code",
      "source": [],
      "metadata": {
        "id": "sMdxYDpC1Pxr"
      },
      "id": "sMdxYDpC1Pxr",
      "execution_count": null,
      "outputs": []
    },
    {
      "cell_type": "code",
      "source": [],
      "metadata": {
        "id": "WlCgxVUP1P1t"
      },
      "id": "WlCgxVUP1P1t",
      "execution_count": null,
      "outputs": []
    },
    {
      "cell_type": "code",
      "source": [],
      "metadata": {
        "id": "7h_PnQvZ1P3d"
      },
      "id": "7h_PnQvZ1P3d",
      "execution_count": null,
      "outputs": []
    },
    {
      "cell_type": "code",
      "source": [],
      "metadata": {
        "id": "FZJ2TEjP1P5t"
      },
      "id": "FZJ2TEjP1P5t",
      "execution_count": null,
      "outputs": []
    },
    {
      "cell_type": "code",
      "source": [],
      "metadata": {
        "id": "6ueLv9Ag1P8O"
      },
      "id": "6ueLv9Ag1P8O",
      "execution_count": null,
      "outputs": []
    },
    {
      "cell_type": "code",
      "source": [],
      "metadata": {
        "id": "C5ofqf8vo8k0"
      },
      "id": "C5ofqf8vo8k0",
      "execution_count": null,
      "outputs": []
    },
    {
      "cell_type": "markdown",
      "source": [
        "# 2. SVM: A linear SVM applied \n",
        "1. directly on the input images;\n",
        "2. to the output of the last convolutional layer (layer2 of the reference MLP);\n",
        "3. to the output of the first fully connected layer (fc1);\n",
        "4. to the output of the second fully connected layer (fc2);"
      ],
      "metadata": {
        "id": "y48Gf0UEFA81"
      },
      "id": "y48Gf0UEFA81"
    },
    {
      "cell_type": "code",
      "source": [
        "from sklearn import svm\n"
      ],
      "metadata": {
        "id": "L0rberiOyfSN"
      },
      "id": "L0rberiOyfSN",
      "execution_count": null,
      "outputs": []
    },
    {
      "cell_type": "code",
      "source": [
        "def loadData(train_data,train_label, test_data, test_label):\n",
        "  mark = True\n",
        "  for i in range(len(train_data)):\n",
        "    images, labels = train_data[i], train_label[i]\n",
        "    if mark:\n",
        "      Input_train =  torch.flatten(images, start_dim=1)\n",
        "      Input_train_y = torch.flatten(labels)\n",
        "      mark = False\n",
        "    else:\n",
        "      Input_train  = torch.cat([Input_train, torch.flatten(images, start_dim=1)])\n",
        "      Input_train_y = torch.cat([Input_train_y, torch.flatten(labels)])\n",
        "\n",
        "  mark = True\n",
        "  for i in range(len(test_data)):\n",
        "    images, labels = test_data[i], test_label[i]\n",
        "  # for images, labels in zip(test_data,test_label):\n",
        "    if mark:\n",
        "      Input_test =  torch.flatten(images, start_dim=1)\n",
        "      Input_test_y = torch.flatten(labels)\n",
        "      mark = False\n",
        "    else:\n",
        "      Input_test  = torch.cat([Input_test, torch.flatten(images, start_dim=1)])\n",
        "      Input_test_y = torch.cat([Input_test_y, torch.flatten(labels)])\n",
        "\n",
        "  return Input_train, Input_train_y, Input_test, Input_test_y\n",
        "\n"
      ],
      "metadata": {
        "id": "Ml030L20JOtT"
      },
      "id": "Ml030L20JOtT",
      "execution_count": null,
      "outputs": []
    },
    {
      "cell_type": "code",
      "source": [
        "# images_train = []\n",
        "# train_data_labels = []\n",
        "# output_train_layer2= []\n",
        "# output_train_fc1 = []\n",
        "# output_train_fc2 = []"
      ],
      "metadata": {
        "id": "HhRs4ALD6_iL"
      },
      "id": "HhRs4ALD6_iL",
      "execution_count": null,
      "outputs": []
    },
    {
      "cell_type": "markdown",
      "source": [
        "## 2.1 SVM directly on the input images;"
      ],
      "metadata": {
        "id": "UqcFrmUB4ksW"
      },
      "id": "UqcFrmUB4ksW"
    },
    {
      "cell_type": "code",
      "source": [
        "Input_train, Input_train_y, Input_test, Input_test_y = loadData(images_train,train_data_labels, images_test, test_data_labels)\n",
        "\n",
        "clf = svm.LinearSVC()\n",
        "clf.fit(np.array(Input_train.cpu()), Input_train_y.cpu())\n",
        "\n",
        "output = clf.predict(Input_train.cpu())\n",
        "output = torch.from_numpy(output)\n",
        "isCorrect = output == Input_train_y.cpu()\n",
        "print('Training Accuracy is {:.4f}'.format(isCorrect.sum()/len(Input_train_y)))\n",
        "\n",
        "output = clf.predict(Input_test.cpu())\n",
        "output = torch.from_numpy(output)\n",
        "isCorrect = output == Input_test_y.cpu()\n",
        "print('Test Accuracy is {:.4f}'.format(isCorrect.sum()/len(Input_test_y)))"
      ],
      "metadata": {
        "colab": {
          "base_uri": "https://localhost:8080/"
        },
        "id": "534Nj-JNHe19",
        "outputId": "ec9827b5-967d-4c54-a6b1-5c7ac10d22ae"
      },
      "id": "534Nj-JNHe19",
      "execution_count": null,
      "outputs": [
        {
          "output_type": "stream",
          "name": "stderr",
          "text": [
            "/usr/local/lib/python3.7/dist-packages/sklearn/svm/_base.py:1208: ConvergenceWarning: Liblinear failed to converge, increase the number of iterations.\n",
            "  ConvergenceWarning,\n"
          ]
        },
        {
          "output_type": "stream",
          "name": "stdout",
          "text": [
            "Training Accuracy is 0.8851\n",
            "Test Accuracy is 0.8391\n"
          ]
        }
      ]
    },
    {
      "cell_type": "markdown",
      "source": [
        "## 2.2 SVM to the output of the last convolutional layer (layer2 of the reference MLP);"
      ],
      "metadata": {
        "id": "DjnXW-mM45Sr"
      },
      "id": "DjnXW-mM45Sr"
    },
    {
      "cell_type": "code",
      "source": [
        "Input_train, Input_train_y, Input_test, Input_test_y = loadData(output_train_layer2,train_data_labels, output_test_layer2, test_data_labels)\n",
        "\n",
        "clf = svm.LinearSVC()\n",
        "clf.fit(np.array(Input_train.cpu()), Input_train_y.cpu())\n",
        "\n",
        "output = clf.predict(Input_train.cpu())\n",
        "output = torch.from_numpy(output)\n",
        "isCorrect = output == Input_train_y.cpu()\n",
        "print('Training Accuracy is {:.4f}'.format(isCorrect.sum()/len(Input_train_y)))\n",
        "\n",
        "output = clf.predict(Input_test.cpu())\n",
        "output = torch.from_numpy(output)\n",
        "isCorrect = output == Input_test_y.cpu()\n",
        "print('Test Accuracy is {:.4f}'.format(isCorrect.sum()/len(Input_test_y)))"
      ],
      "metadata": {
        "id": "nTwlxwDBHhuj",
        "colab": {
          "base_uri": "https://localhost:8080/"
        },
        "outputId": "c01537bc-b5d5-4400-db57-7c20a6d32ab0"
      },
      "id": "nTwlxwDBHhuj",
      "execution_count": null,
      "outputs": [
        {
          "output_type": "stream",
          "name": "stderr",
          "text": [
            "/usr/local/lib/python3.7/dist-packages/sklearn/svm/_base.py:1208: ConvergenceWarning: Liblinear failed to converge, increase the number of iterations.\n",
            "  ConvergenceWarning,\n"
          ]
        },
        {
          "output_type": "stream",
          "name": "stdout",
          "text": [
            "Training Accuracy is 0.9989\n",
            "Test Accuracy is 0.8860\n"
          ]
        }
      ]
    },
    {
      "cell_type": "markdown",
      "source": [
        "## 2.3 SVM to the output of the first fully connected layer (fc1);"
      ],
      "metadata": {
        "id": "IrOm7Te29A4M"
      },
      "id": "IrOm7Te29A4M"
    },
    {
      "cell_type": "code",
      "source": [
        "Input_train, Input_train_y, Input_test, Input_test_y = loadData(output_train_fc1,train_data_labels, output_test_fc1, test_data_labels)\n",
        "\n",
        "clf = svm.LinearSVC()\n",
        "clf.fit(np.array(Input_train.cpu()), Input_train_y.cpu())\n",
        "\n",
        "output = clf.predict(Input_train.cpu())\n",
        "output = torch.from_numpy(output)\n",
        "isCorrect = output == Input_train_y.cpu()\n",
        "print('Training Accuracy is {:.4f}'.format(isCorrect.sum()/len(Input_train_y)))\n",
        "\n",
        "output = clf.predict(Input_test.cpu())\n",
        "output = torch.from_numpy(output)\n",
        "isCorrect = output == Input_test_y.cpu()\n",
        "print('Test Accuracy is {:.4f}'.format(isCorrect.sum()/len(Input_test_y)))"
      ],
      "metadata": {
        "id": "ruKx7u4yWIuw",
        "colab": {
          "base_uri": "https://localhost:8080/"
        },
        "outputId": "68ece5ca-194a-4887-e6b9-1b88249bb565"
      },
      "id": "ruKx7u4yWIuw",
      "execution_count": null,
      "outputs": [
        {
          "output_type": "stream",
          "name": "stderr",
          "text": [
            "/usr/local/lib/python3.7/dist-packages/sklearn/svm/_base.py:1208: ConvergenceWarning: Liblinear failed to converge, increase the number of iterations.\n",
            "  ConvergenceWarning,\n"
          ]
        },
        {
          "output_type": "stream",
          "name": "stdout",
          "text": [
            "Training Accuracy is 0.9792\n",
            "Test Accuracy is 0.9099\n"
          ]
        }
      ]
    },
    {
      "cell_type": "markdown",
      "source": [
        "## 2.4 to the output of the second fully connected layer (fc2);\n"
      ],
      "metadata": {
        "id": "SrMzHTqE9Ont"
      },
      "id": "SrMzHTqE9Ont"
    },
    {
      "cell_type": "code",
      "source": [
        "Input_train, Input_train_y, Input_test, Input_test_y = loadData(output_train_fc2,train_data_labels, output_test_fc2, test_data_labels)\n",
        "\n",
        "clf = svm.LinearSVC()\n",
        "clf.fit(np.array(Input_train.cpu()), Input_train_y.cpu())\n",
        "\n",
        "output = clf.predict(Input_train.cpu())\n",
        "output = torch.from_numpy(output)\n",
        "isCorrect = output == Input_train_y.cpu()\n",
        "print('Training Accuracy is {:.4f}'.format(isCorrect.sum()/len(Input_train_y)))\n",
        "\n",
        "output = clf.predict(Input_test.cpu())\n",
        "output = torch.from_numpy(output)\n",
        "isCorrect = output == Input_test_y.cpu()\n",
        "print('Test Accuracy is {:.4f}'.format(isCorrect.sum()/len(Input_test_y)))"
      ],
      "metadata": {
        "id": "N1NIx5vC9Oxv",
        "colab": {
          "base_uri": "https://localhost:8080/"
        },
        "outputId": "e1a63f8a-ecf0-450e-be6d-6d6bee5101ba"
      },
      "id": "N1NIx5vC9Oxv",
      "execution_count": null,
      "outputs": [
        {
          "output_type": "stream",
          "name": "stdout",
          "text": [
            "Training Accuracy is 0.9632\n",
            "Test Accuracy is 0.9090\n"
          ]
        },
        {
          "output_type": "stream",
          "name": "stderr",
          "text": [
            "/usr/local/lib/python3.7/dist-packages/sklearn/svm/_base.py:1208: ConvergenceWarning: Liblinear failed to converge, increase the number of iterations.\n",
            "  ConvergenceWarning,\n"
          ]
        }
      ]
    },
    {
      "cell_type": "markdown",
      "source": [
        "# 3. Random forests applied:\n",
        "1. directly on the input images;\n",
        "2. to the output of the last convolutional layer (layer2 of the reference MLP);\n",
        "3. to the output of the first fully connected layer (fc1);\n",
        "4. to the output of the second fully connected layer (fc2); to the input images"
      ],
      "metadata": {
        "id": "tQrz8fTKi0u9"
      },
      "id": "tQrz8fTKi0u9"
    },
    {
      "cell_type": "markdown",
      "source": [
        "## 3.1 Random forest directly on the input images;\n",
        "The program takes long time to run, so further shrink the size of training data, making a train-test 10-90 split"
      ],
      "metadata": {
        "id": "bmlc7hnhCK5O"
      },
      "id": "bmlc7hnhCK5O"
    },
    {
      "cell_type": "code",
      "source": [
        "# images_train = []\n",
        "# train_data_labels = []\n",
        "# output_train_layer2= []\n",
        "# output_train_fc1 = []\n",
        "# output_train_fc2 = []"
      ],
      "metadata": {
        "colab": {
          "base_uri": "https://localhost:8080/"
        },
        "id": "v_qq0XYG8JJT",
        "outputId": "0e805e6c-411e-495b-bd54-c379c00a9875"
      },
      "id": "v_qq0XYG8JJT",
      "execution_count": null,
      "outputs": [
        {
          "output_type": "execute_result",
          "data": {
            "text/plain": [
              "torch.Size([30000, 784])"
            ]
          },
          "metadata": {},
          "execution_count": 53
        }
      ]
    },
    {
      "cell_type": "code",
      "source": [
        "# Import the model we are using\n",
        "from sklearn.ensemble import RandomForestRegressor\n",
        "\n",
        "\n",
        "Input_train, Input_train_y, Input_test, Input_test_y = loadData(images_train,train_data_labels, images_test, test_data_labels)\n",
        "\n",
        "Input_train, Input_train_y = Input_train[:3000], Input_train_y[:3000],\n",
        "# Instantiate model with 1000 decision trees\n",
        "rf = RandomForestRegressor(n_estimators = 128)\n",
        "rf.fit(Input_train.cpu(), Input_train_y.cpu())\n",
        "\n",
        "\n",
        "\n",
        "# Use the forest's predict method on the test data\n",
        "predictions = rf.predict(Input_train.cpu())\n",
        "predictions = torch.from_numpy(predictions)\n",
        "isCorrect = predictions == Input_train_y.cpu()\n",
        "print('Training Accuracy is {:.4f}'.format(isCorrect.sum()/len(Input_train_y)))\n",
        "\n",
        "\n",
        "# Use the forest's predict method on the test data\n",
        "predictions = rf.predict(Input_test.cpu())\n",
        "predictions = torch.from_numpy(predictions)\n",
        "isCorrect = predictions == Input_test_y\n",
        "print('Test Accuracy is {:.4f}'.format(isCorrect.sum()/len(Input_test_y)))\n"
      ],
      "metadata": {
        "colab": {
          "base_uri": "https://localhost:8080/"
        },
        "id": "cqi1Lb3SCLCG",
        "outputId": "cfca29b6-0d70-469d-fdd4-b84525dc233d"
      },
      "id": "cqi1Lb3SCLCG",
      "execution_count": null,
      "outputs": [
        {
          "output_type": "stream",
          "name": "stdout",
          "text": [
            "Training Accuracy is 0.1250\n",
            "Training Accuracy is 0.0803\n"
          ]
        }
      ]
    },
    {
      "cell_type": "markdown",
      "source": [
        "## 3.2 Random forest to the output of the last convolutional layer (layer2 of the reference MLP);;\n",
        "The program takes long time to run, so further shrink the size of training data, making a train-test 10-90 split"
      ],
      "metadata": {
        "id": "qdUJLCCi91k0"
      },
      "id": "qdUJLCCi91k0"
    },
    {
      "cell_type": "code",
      "source": [
        "# Import the model we are using\n",
        "from sklearn.ensemble import RandomForestRegressor\n",
        "\n",
        "\n",
        "Input_train, Input_train_y, Input_test, Input_test_y = loadData(output_train_layer2,train_data_labels, output_test_layer2, test_data_labels)\n",
        "\n",
        "# do a 10-90 split, for saving computational cost\n",
        "Input_train, Input_train_y = Input_train[:3000], Input_train_y[:3000],\n",
        "# Instantiate model with 1000 decision trees\n",
        "rf = RandomForestRegressor(n_estimators = 128)\n",
        "rf.fit(Input_train.cpu(), Input_train_y.cpu())\n",
        "\n",
        "\n",
        "\n",
        "# Use the forest's predict method on the test data\n",
        "predictions = rf.predict(Input_train.cpu())\n",
        "predictions = torch.from_numpy(predictions)\n",
        "isCorrect = predictions == Input_train_y.cpu()\n",
        "print('Training Accuracy is {:.4f}'.format(isCorrect.sum()/len(Input_train_y)))\n",
        "\n",
        "\n",
        "# Use the forest's predict method on the test data\n",
        "predictions = rf.predict(Input_test.cpu())\n",
        "predictions = torch.from_numpy(predictions)\n",
        "isCorrect = predictions == Input_test_y\n",
        "print('Test Accuracy is {:.4f}'.format(isCorrect.sum()/len(Input_test_y)))\n"
      ],
      "metadata": {
        "colab": {
          "base_uri": "https://localhost:8080/"
        },
        "id": "i-p0ysv591uR",
        "outputId": "7d5b47b9-d77b-4da2-f593-a7556d150e46"
      },
      "id": "i-p0ysv591uR",
      "execution_count": null,
      "outputs": [
        {
          "output_type": "stream",
          "name": "stdout",
          "text": [
            "Training Accuracy is 0.0810\n",
            "Test Accuracy is 0.0339\n"
          ]
        }
      ]
    },
    {
      "cell_type": "markdown",
      "source": [
        "## 3.3 Random forest to the output of the first fully connected layer (fc1);\n",
        "The program takes long time to run, so further shrink the size of training data, making a train-test 10-90 split"
      ],
      "metadata": {
        "id": "pKPcnoGb-PSp"
      },
      "id": "pKPcnoGb-PSp"
    },
    {
      "cell_type": "code",
      "source": [
        "# Import the model we are using\n",
        "from sklearn.ensemble import RandomForestRegressor\n",
        "\n",
        "\n",
        "Input_train, Input_train_y, Input_test, Input_test_y = loadData(output_train_fc1,train_data_labels, output_test_fc1, test_data_labels)\n",
        "\n",
        "# do a 10-90 split, for saving computational cost\n",
        "Input_train, Input_train_y = Input_train[:3000], Input_train_y[:3000],\n",
        "# Instantiate model with 1000 decision trees\n",
        "rf = RandomForestRegressor(n_estimators = 128)\n",
        "rf.fit(Input_train.cpu(), Input_train_y.cpu())\n",
        "\n",
        "\n",
        "\n",
        "# Use the forest's predict method on the test data\n",
        "predictions = rf.predict(Input_train.cpu())\n",
        "predictions = torch.from_numpy(predictions)\n",
        "isCorrect = predictions == Input_train_y.cpu()\n",
        "print('Training Accuracy is {:.4f}'.format(isCorrect.sum()/len(Input_train_y)))\n",
        "\n",
        "\n",
        "# Use the forest's predict method on the test data\n",
        "predictions = rf.predict(Input_test.cpu())\n",
        "predictions = torch.from_numpy(predictions)\n",
        "isCorrect = predictions == Input_test_y\n",
        "print('Test Accuracy is {:.4f}'.format(isCorrect.sum()/len(Input_test_y)))\n"
      ],
      "metadata": {
        "colab": {
          "base_uri": "https://localhost:8080/"
        },
        "id": "Dkf40gAW93yT",
        "outputId": "4804c6e5-c685-40d3-cfdb-e9482242a439"
      },
      "id": "Dkf40gAW93yT",
      "execution_count": null,
      "outputs": [
        {
          "output_type": "stream",
          "name": "stdout",
          "text": [
            "Training Accuracy is 0.3913\n",
            "Test Accuracy is 0.3104\n"
          ]
        }
      ]
    },
    {
      "cell_type": "markdown",
      "source": [
        "## 3.4 Random forest to the output of the second fully connected layer (fc2);\n",
        "The program takes long time to run, so further shrink the size of training data, making a train-test 10-90 split"
      ],
      "metadata": {
        "id": "CwSIS2Ou-eHA"
      },
      "id": "CwSIS2Ou-eHA"
    },
    {
      "cell_type": "code",
      "source": [
        "# Import the model we are using\n",
        "from sklearn.ensemble import RandomForestRegressor\n",
        "\n",
        "\n",
        "Input_train, Input_train_y, Input_test, Input_test_y = loadData(output_train_fc2,train_data_labels, output_test_fc2, test_data_labels)\n",
        "\n",
        "# do a 10-90 split, for saving computational cost\n",
        "Input_train, Input_train_y = Input_train[:3000], Input_train_y[:3000],\n",
        "# Instantiate model with 1000 decision trees\n",
        "rf = RandomForestRegressor(n_estimators = 128)\n",
        "rf.fit(Input_train.cpu(), Input_train_y.cpu())\n",
        "\n",
        "\n",
        "\n",
        "# Use the forest's predict method on the test data\n",
        "predictions = rf.predict(Input_train.cpu())\n",
        "predictions = torch.from_numpy(predictions)\n",
        "isCorrect = predictions == Input_train_y.cpu()\n",
        "print('Training Accuracy is {:.4f}'.format(isCorrect.sum()/len(Input_train_y)))\n",
        "\n",
        "\n",
        "# Use the forest's predict method on the test data\n",
        "predictions = rf.predict(Input_test.cpu())\n",
        "predictions = torch.from_numpy(predictions)\n",
        "isCorrect = predictions == Input_test_y\n",
        "print('Test Accuracy is {:.4f}'.format(isCorrect.sum()/len(Input_test_y)))\n"
      ],
      "metadata": {
        "colab": {
          "base_uri": "https://localhost:8080/"
        },
        "id": "C4vVVf_H932x",
        "outputId": "07f64f52-31c4-48f4-9831-bc0c4283172c"
      },
      "id": "C4vVVf_H932x",
      "execution_count": null,
      "outputs": [
        {
          "output_type": "stream",
          "name": "stdout",
          "text": [
            "Training Accuracy is 0.7037\n",
            "Test Accuracy is 0.6302\n"
          ]
        }
      ]
    },
    {
      "cell_type": "code",
      "source": [],
      "metadata": {
        "id": "o0amibeo935V"
      },
      "id": "o0amibeo935V",
      "execution_count": null,
      "outputs": []
    },
    {
      "cell_type": "markdown",
      "source": [
        "# 4. Multi-class least squares applied to the input images (2.1) and three outputs detailed in 2.2, 2.3\n",
        "and 2.4."
      ],
      "metadata": {
        "id": "UNjsMtFA-j8a"
      },
      "id": "UNjsMtFA-j8a"
    },
    {
      "cell_type": "markdown",
      "source": [
        "## 4.1 Multi-class least squares directly on the input images;"
      ],
      "metadata": {
        "id": "Vm01m_fFExIg"
      },
      "id": "Vm01m_fFExIg"
    },
    {
      "cell_type": "code",
      "source": [
        "# images_train = []\n",
        "# train_data_labels = []\n",
        "# output_train_layer2= []\n",
        "# output_train_fc1 = []\n",
        "# output_train_fc2 = []"
      ],
      "metadata": {
        "id": "6FnzxKdGEsaW"
      },
      "id": "6FnzxKdGEsaW",
      "execution_count": null,
      "outputs": []
    },
    {
      "cell_type": "code",
      "source": [
        "from sklearn.discriminant_analysis import LinearDiscriminantAnalysis as LDA\n",
        "\n",
        "\n",
        "Input_train, Input_train_y, Input_test, Input_test_y = loadData(images_train,train_data_labels, images_test, test_data_labels)\n",
        "\n",
        "lda = LDA(n_components=1)\n",
        "lda.fit(Input_train.cpu(),Input_train_y.cpu())\n",
        "\n",
        "\n",
        "# Use the forest's predict method on the test data\n",
        "predictions = lda.predict(Input_train.cpu())\n",
        "predictions = torch.from_numpy(predictions)\n",
        "isCorrect = predictions == Input_train_y.cpu()\n",
        "print('Training Accuracy is {:.4f}'.format(isCorrect.sum()/len(Input_train_y)))\n",
        "\n",
        "\n",
        "# Use the forest's predict method on the test data\n",
        "predictions = lda.predict(Input_test.cpu())\n",
        "predictions = torch.from_numpy(predictions)\n",
        "isCorrect = predictions == Input_test_y\n",
        "print('Test Accuracy is {:.4f}'.format(isCorrect.sum()/len(Input_test_y)))"
      ],
      "metadata": {
        "colab": {
          "base_uri": "https://localhost:8080/"
        },
        "id": "EQIMQj0G9370",
        "outputId": "5d546953-0122-4e16-a231-4e48149c2c45"
      },
      "id": "EQIMQj0G9370",
      "execution_count": null,
      "outputs": [
        {
          "output_type": "stream",
          "name": "stdout",
          "text": [
            "Training Accuracy is 0.8382\n",
            "Test Accuracy is 0.8223\n"
          ]
        }
      ]
    },
    {
      "cell_type": "markdown",
      "source": [
        "## 4.2 Multi-class least squares  to the output of the last convolutional layer (layer2 of the reference MLP);"
      ],
      "metadata": {
        "id": "wshCczKvE_4E"
      },
      "id": "wshCczKvE_4E"
    },
    {
      "cell_type": "code",
      "source": [
        "from sklearn.discriminant_analysis import LinearDiscriminantAnalysis as LDA\n",
        "\n",
        "\n",
        "Input_train, Input_train_y, Input_test, Input_test_y = loadData(output_train_layer2,train_data_labels, output_test_layer2, test_data_labels)\n",
        "\n",
        "lda = LDA(n_components=1)\n",
        "lda.fit(Input_train.cpu(),Input_train_y.cpu())\n",
        "\n",
        "\n",
        "# Use the forest's predict method on the test data\n",
        "predictions = lda.predict(Input_train.cpu())\n",
        "predictions = torch.from_numpy(predictions)\n",
        "isCorrect = predictions == Input_train_y.cpu()\n",
        "print('Training Accuracy is {:.4f}'.format(isCorrect.sum()/len(Input_train_y)))\n",
        "\n",
        "\n",
        "# Use the forest's predict method on the test data\n",
        "predictions = lda.predict(Input_test.cpu())\n",
        "predictions = torch.from_numpy(predictions)\n",
        "isCorrect = predictions == Input_test_y\n",
        "print('Test Accuracy is {:.4f}'.format(isCorrect.sum()/len(Input_test_y)))"
      ],
      "metadata": {
        "colab": {
          "base_uri": "https://localhost:8080/"
        },
        "id": "YVfbCxN3FGbt",
        "outputId": "eb16d724-97d9-4d32-9959-d9a1f5ef4d72"
      },
      "id": "YVfbCxN3FGbt",
      "execution_count": null,
      "outputs": [
        {
          "output_type": "stream",
          "name": "stdout",
          "text": [
            "Training Accuracy is 0.9399\n",
            "Test Accuracy is 0.9067\n"
          ]
        }
      ]
    },
    {
      "cell_type": "markdown",
      "source": [
        "## 4.3 Multi-class least squares to the output of the first fully connected layer (fc1);"
      ],
      "metadata": {
        "id": "X72EwYL5FMOu"
      },
      "id": "X72EwYL5FMOu"
    },
    {
      "cell_type": "code",
      "source": [
        "from sklearn.discriminant_analysis import LinearDiscriminantAnalysis as LDA\n",
        "\n",
        "\n",
        "Input_train, Input_train_y, Input_test, Input_test_y = loadData(output_train_fc1,train_data_labels, output_test_fc1, test_data_labels)\n",
        "\n",
        "lda = LDA(n_components=1)\n",
        "lda.fit(Input_train.cpu(),Input_train_y.cpu())\n",
        "\n",
        "\n",
        "# Use the forest's predict method on the test data\n",
        "predictions = lda.predict(Input_train.cpu())\n",
        "predictions = torch.from_numpy(predictions)\n",
        "isCorrect = predictions == Input_train_y.cpu()\n",
        "print('Training Accuracy is {:.4f}'.format(isCorrect.sum()/len(Input_train_y)))\n",
        "\n",
        "\n",
        "# Use the forest's predict method on the test data\n",
        "predictions = lda.predict(Input_test.cpu())\n",
        "predictions = torch.from_numpy(predictions)\n",
        "isCorrect = predictions == Input_test_y\n",
        "print('Test Accuracy is {:.4f}'.format(isCorrect.sum()/len(Input_test_y)))"
      ],
      "metadata": {
        "colab": {
          "base_uri": "https://localhost:8080/"
        },
        "id": "dy6tI6oXFGeG",
        "outputId": "0498fc84-38cd-48f7-d60a-6fe9719c0835"
      },
      "id": "dy6tI6oXFGeG",
      "execution_count": null,
      "outputs": [
        {
          "output_type": "stream",
          "name": "stdout",
          "text": [
            "Training Accuracy is 0.9598\n",
            "Test Accuracy is 0.9146\n"
          ]
        }
      ]
    },
    {
      "cell_type": "markdown",
      "source": [
        "## 4.4 Multi-class least squares to the output of the second fully connected layer (fc2);"
      ],
      "metadata": {
        "id": "tGMZwps7FVKM"
      },
      "id": "tGMZwps7FVKM"
    },
    {
      "cell_type": "code",
      "source": [
        "from sklearn.discriminant_analysis import LinearDiscriminantAnalysis as LDA\n",
        "\n",
        "\n",
        "Input_train, Input_train_y, Input_test, Input_test_y = loadData(output_train_fc2,train_data_labels, output_test_fc2, test_data_labels)\n",
        "\n",
        "lda = LDA(n_components=1)\n",
        "lda.fit(Input_train.cpu(),Input_train_y.cpu())\n",
        "\n",
        "\n",
        "# Use the forest's predict method on the test data\n",
        "predictions = lda.predict(Input_train.cpu())\n",
        "predictions = torch.from_numpy(predictions)\n",
        "isCorrect = predictions == Input_train_y.cpu()\n",
        "print('Training Accuracy is {:.4f}'.format(isCorrect.sum()/len(Input_train_y)))\n",
        "\n",
        "\n",
        "# Use the forest's predict method on the test data\n",
        "predictions = lda.predict(Input_test.cpu())\n",
        "predictions = torch.from_numpy(predictions)\n",
        "isCorrect = predictions == Input_test_y\n",
        "print('Test Accuracy is {:.4f}'.format(isCorrect.sum()/len(Input_test_y)))"
      ],
      "metadata": {
        "colab": {
          "base_uri": "https://localhost:8080/"
        },
        "id": "qJOltAf9FGgg",
        "outputId": "0e8347ea-3b77-4d9e-90bf-82487db6d6d4"
      },
      "id": "qJOltAf9FGgg",
      "execution_count": null,
      "outputs": [
        {
          "output_type": "stream",
          "name": "stdout",
          "text": [
            "Training Accuracy is 0.9559\n",
            "Test Accuracy is 0.9039\n"
          ]
        }
      ]
    },
    {
      "cell_type": "code",
      "source": [
        "output_train_fc2"
      ],
      "metadata": {
        "id": "YICjcLyvi3ou"
      },
      "id": "YICjcLyvi3ou",
      "execution_count": null,
      "outputs": []
    }
  ],
  "metadata": {
    "kernelspec": {
      "display_name": "Python 3",
      "language": "python",
      "name": "python3"
    },
    "language_info": {
      "codemirror_mode": {
        "name": "ipython",
        "version": 3
      },
      "file_extension": ".py",
      "mimetype": "text/x-python",
      "name": "python",
      "nbconvert_exporter": "python",
      "pygments_lexer": "ipython3",
      "version": "3.8.8"
    },
    "colab": {
      "provenance": [],
      "collapsed_sections": [],
      "include_colab_link": true
    },
    "gpuClass": "standard",
    "widgets": {
      "application/vnd.jupyter.widget-state+json": {
        "3649683104584e979ecf82ebfc57efce": {
          "model_module": "@jupyter-widgets/controls",
          "model_name": "HBoxModel",
          "model_module_version": "1.5.0",
          "state": {
            "_dom_classes": [],
            "_model_module": "@jupyter-widgets/controls",
            "_model_module_version": "1.5.0",
            "_model_name": "HBoxModel",
            "_view_count": null,
            "_view_module": "@jupyter-widgets/controls",
            "_view_module_version": "1.5.0",
            "_view_name": "HBoxView",
            "box_style": "",
            "children": [
              "IPY_MODEL_9c048617ad46425ca44a59608adde02c",
              "IPY_MODEL_2c7e5ac1d52842ffb698f4e199a26c4c",
              "IPY_MODEL_30eedb123e9049b0ac9cee7fd37ee78e"
            ],
            "layout": "IPY_MODEL_bb3e5cd27661401881be77e767039807"
          }
        },
        "9c048617ad46425ca44a59608adde02c": {
          "model_module": "@jupyter-widgets/controls",
          "model_name": "HTMLModel",
          "model_module_version": "1.5.0",
          "state": {
            "_dom_classes": [],
            "_model_module": "@jupyter-widgets/controls",
            "_model_module_version": "1.5.0",
            "_model_name": "HTMLModel",
            "_view_count": null,
            "_view_module": "@jupyter-widgets/controls",
            "_view_module_version": "1.5.0",
            "_view_name": "HTMLView",
            "description": "",
            "description_tooltip": null,
            "layout": "IPY_MODEL_c7507968d4b9405f80e5a0445a5b99b2",
            "placeholder": "​",
            "style": "IPY_MODEL_6689dee87b994160936a69d6784ee33b",
            "value": "100%"
          }
        },
        "2c7e5ac1d52842ffb698f4e199a26c4c": {
          "model_module": "@jupyter-widgets/controls",
          "model_name": "FloatProgressModel",
          "model_module_version": "1.5.0",
          "state": {
            "_dom_classes": [],
            "_model_module": "@jupyter-widgets/controls",
            "_model_module_version": "1.5.0",
            "_model_name": "FloatProgressModel",
            "_view_count": null,
            "_view_module": "@jupyter-widgets/controls",
            "_view_module_version": "1.5.0",
            "_view_name": "ProgressView",
            "bar_style": "success",
            "description": "",
            "description_tooltip": null,
            "layout": "IPY_MODEL_756aac057acc48689cdce4d91495931e",
            "max": 26421880,
            "min": 0,
            "orientation": "horizontal",
            "style": "IPY_MODEL_a7480687a56245bb814ab66bc0c6760c",
            "value": 26421880
          }
        },
        "30eedb123e9049b0ac9cee7fd37ee78e": {
          "model_module": "@jupyter-widgets/controls",
          "model_name": "HTMLModel",
          "model_module_version": "1.5.0",
          "state": {
            "_dom_classes": [],
            "_model_module": "@jupyter-widgets/controls",
            "_model_module_version": "1.5.0",
            "_model_name": "HTMLModel",
            "_view_count": null,
            "_view_module": "@jupyter-widgets/controls",
            "_view_module_version": "1.5.0",
            "_view_name": "HTMLView",
            "description": "",
            "description_tooltip": null,
            "layout": "IPY_MODEL_bffa7d1f084342caaedddcdd203de5d0",
            "placeholder": "​",
            "style": "IPY_MODEL_453283c2891d463e9080a553c367eb9d",
            "value": " 26421880/26421880 [00:01&lt;00:00, 27405851.61it/s]"
          }
        },
        "bb3e5cd27661401881be77e767039807": {
          "model_module": "@jupyter-widgets/base",
          "model_name": "LayoutModel",
          "model_module_version": "1.2.0",
          "state": {
            "_model_module": "@jupyter-widgets/base",
            "_model_module_version": "1.2.0",
            "_model_name": "LayoutModel",
            "_view_count": null,
            "_view_module": "@jupyter-widgets/base",
            "_view_module_version": "1.2.0",
            "_view_name": "LayoutView",
            "align_content": null,
            "align_items": null,
            "align_self": null,
            "border": null,
            "bottom": null,
            "display": null,
            "flex": null,
            "flex_flow": null,
            "grid_area": null,
            "grid_auto_columns": null,
            "grid_auto_flow": null,
            "grid_auto_rows": null,
            "grid_column": null,
            "grid_gap": null,
            "grid_row": null,
            "grid_template_areas": null,
            "grid_template_columns": null,
            "grid_template_rows": null,
            "height": null,
            "justify_content": null,
            "justify_items": null,
            "left": null,
            "margin": null,
            "max_height": null,
            "max_width": null,
            "min_height": null,
            "min_width": null,
            "object_fit": null,
            "object_position": null,
            "order": null,
            "overflow": null,
            "overflow_x": null,
            "overflow_y": null,
            "padding": null,
            "right": null,
            "top": null,
            "visibility": null,
            "width": null
          }
        },
        "c7507968d4b9405f80e5a0445a5b99b2": {
          "model_module": "@jupyter-widgets/base",
          "model_name": "LayoutModel",
          "model_module_version": "1.2.0",
          "state": {
            "_model_module": "@jupyter-widgets/base",
            "_model_module_version": "1.2.0",
            "_model_name": "LayoutModel",
            "_view_count": null,
            "_view_module": "@jupyter-widgets/base",
            "_view_module_version": "1.2.0",
            "_view_name": "LayoutView",
            "align_content": null,
            "align_items": null,
            "align_self": null,
            "border": null,
            "bottom": null,
            "display": null,
            "flex": null,
            "flex_flow": null,
            "grid_area": null,
            "grid_auto_columns": null,
            "grid_auto_flow": null,
            "grid_auto_rows": null,
            "grid_column": null,
            "grid_gap": null,
            "grid_row": null,
            "grid_template_areas": null,
            "grid_template_columns": null,
            "grid_template_rows": null,
            "height": null,
            "justify_content": null,
            "justify_items": null,
            "left": null,
            "margin": null,
            "max_height": null,
            "max_width": null,
            "min_height": null,
            "min_width": null,
            "object_fit": null,
            "object_position": null,
            "order": null,
            "overflow": null,
            "overflow_x": null,
            "overflow_y": null,
            "padding": null,
            "right": null,
            "top": null,
            "visibility": null,
            "width": null
          }
        },
        "6689dee87b994160936a69d6784ee33b": {
          "model_module": "@jupyter-widgets/controls",
          "model_name": "DescriptionStyleModel",
          "model_module_version": "1.5.0",
          "state": {
            "_model_module": "@jupyter-widgets/controls",
            "_model_module_version": "1.5.0",
            "_model_name": "DescriptionStyleModel",
            "_view_count": null,
            "_view_module": "@jupyter-widgets/base",
            "_view_module_version": "1.2.0",
            "_view_name": "StyleView",
            "description_width": ""
          }
        },
        "756aac057acc48689cdce4d91495931e": {
          "model_module": "@jupyter-widgets/base",
          "model_name": "LayoutModel",
          "model_module_version": "1.2.0",
          "state": {
            "_model_module": "@jupyter-widgets/base",
            "_model_module_version": "1.2.0",
            "_model_name": "LayoutModel",
            "_view_count": null,
            "_view_module": "@jupyter-widgets/base",
            "_view_module_version": "1.2.0",
            "_view_name": "LayoutView",
            "align_content": null,
            "align_items": null,
            "align_self": null,
            "border": null,
            "bottom": null,
            "display": null,
            "flex": null,
            "flex_flow": null,
            "grid_area": null,
            "grid_auto_columns": null,
            "grid_auto_flow": null,
            "grid_auto_rows": null,
            "grid_column": null,
            "grid_gap": null,
            "grid_row": null,
            "grid_template_areas": null,
            "grid_template_columns": null,
            "grid_template_rows": null,
            "height": null,
            "justify_content": null,
            "justify_items": null,
            "left": null,
            "margin": null,
            "max_height": null,
            "max_width": null,
            "min_height": null,
            "min_width": null,
            "object_fit": null,
            "object_position": null,
            "order": null,
            "overflow": null,
            "overflow_x": null,
            "overflow_y": null,
            "padding": null,
            "right": null,
            "top": null,
            "visibility": null,
            "width": null
          }
        },
        "a7480687a56245bb814ab66bc0c6760c": {
          "model_module": "@jupyter-widgets/controls",
          "model_name": "ProgressStyleModel",
          "model_module_version": "1.5.0",
          "state": {
            "_model_module": "@jupyter-widgets/controls",
            "_model_module_version": "1.5.0",
            "_model_name": "ProgressStyleModel",
            "_view_count": null,
            "_view_module": "@jupyter-widgets/base",
            "_view_module_version": "1.2.0",
            "_view_name": "StyleView",
            "bar_color": null,
            "description_width": ""
          }
        },
        "bffa7d1f084342caaedddcdd203de5d0": {
          "model_module": "@jupyter-widgets/base",
          "model_name": "LayoutModel",
          "model_module_version": "1.2.0",
          "state": {
            "_model_module": "@jupyter-widgets/base",
            "_model_module_version": "1.2.0",
            "_model_name": "LayoutModel",
            "_view_count": null,
            "_view_module": "@jupyter-widgets/base",
            "_view_module_version": "1.2.0",
            "_view_name": "LayoutView",
            "align_content": null,
            "align_items": null,
            "align_self": null,
            "border": null,
            "bottom": null,
            "display": null,
            "flex": null,
            "flex_flow": null,
            "grid_area": null,
            "grid_auto_columns": null,
            "grid_auto_flow": null,
            "grid_auto_rows": null,
            "grid_column": null,
            "grid_gap": null,
            "grid_row": null,
            "grid_template_areas": null,
            "grid_template_columns": null,
            "grid_template_rows": null,
            "height": null,
            "justify_content": null,
            "justify_items": null,
            "left": null,
            "margin": null,
            "max_height": null,
            "max_width": null,
            "min_height": null,
            "min_width": null,
            "object_fit": null,
            "object_position": null,
            "order": null,
            "overflow": null,
            "overflow_x": null,
            "overflow_y": null,
            "padding": null,
            "right": null,
            "top": null,
            "visibility": null,
            "width": null
          }
        },
        "453283c2891d463e9080a553c367eb9d": {
          "model_module": "@jupyter-widgets/controls",
          "model_name": "DescriptionStyleModel",
          "model_module_version": "1.5.0",
          "state": {
            "_model_module": "@jupyter-widgets/controls",
            "_model_module_version": "1.5.0",
            "_model_name": "DescriptionStyleModel",
            "_view_count": null,
            "_view_module": "@jupyter-widgets/base",
            "_view_module_version": "1.2.0",
            "_view_name": "StyleView",
            "description_width": ""
          }
        },
        "84d3edd502f245f2bf9f2cb3478f4836": {
          "model_module": "@jupyter-widgets/controls",
          "model_name": "HBoxModel",
          "model_module_version": "1.5.0",
          "state": {
            "_dom_classes": [],
            "_model_module": "@jupyter-widgets/controls",
            "_model_module_version": "1.5.0",
            "_model_name": "HBoxModel",
            "_view_count": null,
            "_view_module": "@jupyter-widgets/controls",
            "_view_module_version": "1.5.0",
            "_view_name": "HBoxView",
            "box_style": "",
            "children": [
              "IPY_MODEL_9fea771e71b648dea249c59c1b0c4f98",
              "IPY_MODEL_adbc245bb2a94500b762b6407316267b",
              "IPY_MODEL_c9b57a548ad645719574695a0ce39e7f"
            ],
            "layout": "IPY_MODEL_53174f7c9ede4550893caa6b03ca1376"
          }
        },
        "9fea771e71b648dea249c59c1b0c4f98": {
          "model_module": "@jupyter-widgets/controls",
          "model_name": "HTMLModel",
          "model_module_version": "1.5.0",
          "state": {
            "_dom_classes": [],
            "_model_module": "@jupyter-widgets/controls",
            "_model_module_version": "1.5.0",
            "_model_name": "HTMLModel",
            "_view_count": null,
            "_view_module": "@jupyter-widgets/controls",
            "_view_module_version": "1.5.0",
            "_view_name": "HTMLView",
            "description": "",
            "description_tooltip": null,
            "layout": "IPY_MODEL_3c5d63351e144e6a984f9c7d4f6d26a0",
            "placeholder": "​",
            "style": "IPY_MODEL_5dde5f8940d7498f92784a422e5565fa",
            "value": "100%"
          }
        },
        "adbc245bb2a94500b762b6407316267b": {
          "model_module": "@jupyter-widgets/controls",
          "model_name": "FloatProgressModel",
          "model_module_version": "1.5.0",
          "state": {
            "_dom_classes": [],
            "_model_module": "@jupyter-widgets/controls",
            "_model_module_version": "1.5.0",
            "_model_name": "FloatProgressModel",
            "_view_count": null,
            "_view_module": "@jupyter-widgets/controls",
            "_view_module_version": "1.5.0",
            "_view_name": "ProgressView",
            "bar_style": "success",
            "description": "",
            "description_tooltip": null,
            "layout": "IPY_MODEL_db23da2366d2442bb59f5bc4da0d5a3f",
            "max": 29515,
            "min": 0,
            "orientation": "horizontal",
            "style": "IPY_MODEL_fc05abe448b44d5cbd5526d501b1c572",
            "value": 29515
          }
        },
        "c9b57a548ad645719574695a0ce39e7f": {
          "model_module": "@jupyter-widgets/controls",
          "model_name": "HTMLModel",
          "model_module_version": "1.5.0",
          "state": {
            "_dom_classes": [],
            "_model_module": "@jupyter-widgets/controls",
            "_model_module_version": "1.5.0",
            "_model_name": "HTMLModel",
            "_view_count": null,
            "_view_module": "@jupyter-widgets/controls",
            "_view_module_version": "1.5.0",
            "_view_name": "HTMLView",
            "description": "",
            "description_tooltip": null,
            "layout": "IPY_MODEL_0864b019818d45ec9d7eee82a0f21878",
            "placeholder": "​",
            "style": "IPY_MODEL_b50f365b2ef04e8192db780aff306a1f",
            "value": " 29515/29515 [00:00&lt;00:00, 297337.26it/s]"
          }
        },
        "53174f7c9ede4550893caa6b03ca1376": {
          "model_module": "@jupyter-widgets/base",
          "model_name": "LayoutModel",
          "model_module_version": "1.2.0",
          "state": {
            "_model_module": "@jupyter-widgets/base",
            "_model_module_version": "1.2.0",
            "_model_name": "LayoutModel",
            "_view_count": null,
            "_view_module": "@jupyter-widgets/base",
            "_view_module_version": "1.2.0",
            "_view_name": "LayoutView",
            "align_content": null,
            "align_items": null,
            "align_self": null,
            "border": null,
            "bottom": null,
            "display": null,
            "flex": null,
            "flex_flow": null,
            "grid_area": null,
            "grid_auto_columns": null,
            "grid_auto_flow": null,
            "grid_auto_rows": null,
            "grid_column": null,
            "grid_gap": null,
            "grid_row": null,
            "grid_template_areas": null,
            "grid_template_columns": null,
            "grid_template_rows": null,
            "height": null,
            "justify_content": null,
            "justify_items": null,
            "left": null,
            "margin": null,
            "max_height": null,
            "max_width": null,
            "min_height": null,
            "min_width": null,
            "object_fit": null,
            "object_position": null,
            "order": null,
            "overflow": null,
            "overflow_x": null,
            "overflow_y": null,
            "padding": null,
            "right": null,
            "top": null,
            "visibility": null,
            "width": null
          }
        },
        "3c5d63351e144e6a984f9c7d4f6d26a0": {
          "model_module": "@jupyter-widgets/base",
          "model_name": "LayoutModel",
          "model_module_version": "1.2.0",
          "state": {
            "_model_module": "@jupyter-widgets/base",
            "_model_module_version": "1.2.0",
            "_model_name": "LayoutModel",
            "_view_count": null,
            "_view_module": "@jupyter-widgets/base",
            "_view_module_version": "1.2.0",
            "_view_name": "LayoutView",
            "align_content": null,
            "align_items": null,
            "align_self": null,
            "border": null,
            "bottom": null,
            "display": null,
            "flex": null,
            "flex_flow": null,
            "grid_area": null,
            "grid_auto_columns": null,
            "grid_auto_flow": null,
            "grid_auto_rows": null,
            "grid_column": null,
            "grid_gap": null,
            "grid_row": null,
            "grid_template_areas": null,
            "grid_template_columns": null,
            "grid_template_rows": null,
            "height": null,
            "justify_content": null,
            "justify_items": null,
            "left": null,
            "margin": null,
            "max_height": null,
            "max_width": null,
            "min_height": null,
            "min_width": null,
            "object_fit": null,
            "object_position": null,
            "order": null,
            "overflow": null,
            "overflow_x": null,
            "overflow_y": null,
            "padding": null,
            "right": null,
            "top": null,
            "visibility": null,
            "width": null
          }
        },
        "5dde5f8940d7498f92784a422e5565fa": {
          "model_module": "@jupyter-widgets/controls",
          "model_name": "DescriptionStyleModel",
          "model_module_version": "1.5.0",
          "state": {
            "_model_module": "@jupyter-widgets/controls",
            "_model_module_version": "1.5.0",
            "_model_name": "DescriptionStyleModel",
            "_view_count": null,
            "_view_module": "@jupyter-widgets/base",
            "_view_module_version": "1.2.0",
            "_view_name": "StyleView",
            "description_width": ""
          }
        },
        "db23da2366d2442bb59f5bc4da0d5a3f": {
          "model_module": "@jupyter-widgets/base",
          "model_name": "LayoutModel",
          "model_module_version": "1.2.0",
          "state": {
            "_model_module": "@jupyter-widgets/base",
            "_model_module_version": "1.2.0",
            "_model_name": "LayoutModel",
            "_view_count": null,
            "_view_module": "@jupyter-widgets/base",
            "_view_module_version": "1.2.0",
            "_view_name": "LayoutView",
            "align_content": null,
            "align_items": null,
            "align_self": null,
            "border": null,
            "bottom": null,
            "display": null,
            "flex": null,
            "flex_flow": null,
            "grid_area": null,
            "grid_auto_columns": null,
            "grid_auto_flow": null,
            "grid_auto_rows": null,
            "grid_column": null,
            "grid_gap": null,
            "grid_row": null,
            "grid_template_areas": null,
            "grid_template_columns": null,
            "grid_template_rows": null,
            "height": null,
            "justify_content": null,
            "justify_items": null,
            "left": null,
            "margin": null,
            "max_height": null,
            "max_width": null,
            "min_height": null,
            "min_width": null,
            "object_fit": null,
            "object_position": null,
            "order": null,
            "overflow": null,
            "overflow_x": null,
            "overflow_y": null,
            "padding": null,
            "right": null,
            "top": null,
            "visibility": null,
            "width": null
          }
        },
        "fc05abe448b44d5cbd5526d501b1c572": {
          "model_module": "@jupyter-widgets/controls",
          "model_name": "ProgressStyleModel",
          "model_module_version": "1.5.0",
          "state": {
            "_model_module": "@jupyter-widgets/controls",
            "_model_module_version": "1.5.0",
            "_model_name": "ProgressStyleModel",
            "_view_count": null,
            "_view_module": "@jupyter-widgets/base",
            "_view_module_version": "1.2.0",
            "_view_name": "StyleView",
            "bar_color": null,
            "description_width": ""
          }
        },
        "0864b019818d45ec9d7eee82a0f21878": {
          "model_module": "@jupyter-widgets/base",
          "model_name": "LayoutModel",
          "model_module_version": "1.2.0",
          "state": {
            "_model_module": "@jupyter-widgets/base",
            "_model_module_version": "1.2.0",
            "_model_name": "LayoutModel",
            "_view_count": null,
            "_view_module": "@jupyter-widgets/base",
            "_view_module_version": "1.2.0",
            "_view_name": "LayoutView",
            "align_content": null,
            "align_items": null,
            "align_self": null,
            "border": null,
            "bottom": null,
            "display": null,
            "flex": null,
            "flex_flow": null,
            "grid_area": null,
            "grid_auto_columns": null,
            "grid_auto_flow": null,
            "grid_auto_rows": null,
            "grid_column": null,
            "grid_gap": null,
            "grid_row": null,
            "grid_template_areas": null,
            "grid_template_columns": null,
            "grid_template_rows": null,
            "height": null,
            "justify_content": null,
            "justify_items": null,
            "left": null,
            "margin": null,
            "max_height": null,
            "max_width": null,
            "min_height": null,
            "min_width": null,
            "object_fit": null,
            "object_position": null,
            "order": null,
            "overflow": null,
            "overflow_x": null,
            "overflow_y": null,
            "padding": null,
            "right": null,
            "top": null,
            "visibility": null,
            "width": null
          }
        },
        "b50f365b2ef04e8192db780aff306a1f": {
          "model_module": "@jupyter-widgets/controls",
          "model_name": "DescriptionStyleModel",
          "model_module_version": "1.5.0",
          "state": {
            "_model_module": "@jupyter-widgets/controls",
            "_model_module_version": "1.5.0",
            "_model_name": "DescriptionStyleModel",
            "_view_count": null,
            "_view_module": "@jupyter-widgets/base",
            "_view_module_version": "1.2.0",
            "_view_name": "StyleView",
            "description_width": ""
          }
        },
        "1623cffe4fde4d3e938e5b60209872e5": {
          "model_module": "@jupyter-widgets/controls",
          "model_name": "HBoxModel",
          "model_module_version": "1.5.0",
          "state": {
            "_dom_classes": [],
            "_model_module": "@jupyter-widgets/controls",
            "_model_module_version": "1.5.0",
            "_model_name": "HBoxModel",
            "_view_count": null,
            "_view_module": "@jupyter-widgets/controls",
            "_view_module_version": "1.5.0",
            "_view_name": "HBoxView",
            "box_style": "",
            "children": [
              "IPY_MODEL_18a5165af98143a2953c759179d0e240",
              "IPY_MODEL_e1669fc8dda4497a85313a321c2f3c76",
              "IPY_MODEL_79d94bb08a9741c198d994afa55110cb"
            ],
            "layout": "IPY_MODEL_f19a95944429493f90179e3f874957f0"
          }
        },
        "18a5165af98143a2953c759179d0e240": {
          "model_module": "@jupyter-widgets/controls",
          "model_name": "HTMLModel",
          "model_module_version": "1.5.0",
          "state": {
            "_dom_classes": [],
            "_model_module": "@jupyter-widgets/controls",
            "_model_module_version": "1.5.0",
            "_model_name": "HTMLModel",
            "_view_count": null,
            "_view_module": "@jupyter-widgets/controls",
            "_view_module_version": "1.5.0",
            "_view_name": "HTMLView",
            "description": "",
            "description_tooltip": null,
            "layout": "IPY_MODEL_e3d7dd2a3e804093adab5671631f53e8",
            "placeholder": "​",
            "style": "IPY_MODEL_d0f1efcbc458490cab94f028153e7283",
            "value": "100%"
          }
        },
        "e1669fc8dda4497a85313a321c2f3c76": {
          "model_module": "@jupyter-widgets/controls",
          "model_name": "FloatProgressModel",
          "model_module_version": "1.5.0",
          "state": {
            "_dom_classes": [],
            "_model_module": "@jupyter-widgets/controls",
            "_model_module_version": "1.5.0",
            "_model_name": "FloatProgressModel",
            "_view_count": null,
            "_view_module": "@jupyter-widgets/controls",
            "_view_module_version": "1.5.0",
            "_view_name": "ProgressView",
            "bar_style": "success",
            "description": "",
            "description_tooltip": null,
            "layout": "IPY_MODEL_13c11aa8568f4e159cba51588004af41",
            "max": 4422102,
            "min": 0,
            "orientation": "horizontal",
            "style": "IPY_MODEL_5437033a82fb4ab1a15c21c9f9a9de44",
            "value": 4422102
          }
        },
        "79d94bb08a9741c198d994afa55110cb": {
          "model_module": "@jupyter-widgets/controls",
          "model_name": "HTMLModel",
          "model_module_version": "1.5.0",
          "state": {
            "_dom_classes": [],
            "_model_module": "@jupyter-widgets/controls",
            "_model_module_version": "1.5.0",
            "_model_name": "HTMLModel",
            "_view_count": null,
            "_view_module": "@jupyter-widgets/controls",
            "_view_module_version": "1.5.0",
            "_view_name": "HTMLView",
            "description": "",
            "description_tooltip": null,
            "layout": "IPY_MODEL_d3b5c078e3c84df8a5bf1edcf05b765f",
            "placeholder": "​",
            "style": "IPY_MODEL_f8f88f7b0e444bd9abac9a927897cc76",
            "value": " 4422102/4422102 [00:00&lt;00:00, 8891844.08it/s]"
          }
        },
        "f19a95944429493f90179e3f874957f0": {
          "model_module": "@jupyter-widgets/base",
          "model_name": "LayoutModel",
          "model_module_version": "1.2.0",
          "state": {
            "_model_module": "@jupyter-widgets/base",
            "_model_module_version": "1.2.0",
            "_model_name": "LayoutModel",
            "_view_count": null,
            "_view_module": "@jupyter-widgets/base",
            "_view_module_version": "1.2.0",
            "_view_name": "LayoutView",
            "align_content": null,
            "align_items": null,
            "align_self": null,
            "border": null,
            "bottom": null,
            "display": null,
            "flex": null,
            "flex_flow": null,
            "grid_area": null,
            "grid_auto_columns": null,
            "grid_auto_flow": null,
            "grid_auto_rows": null,
            "grid_column": null,
            "grid_gap": null,
            "grid_row": null,
            "grid_template_areas": null,
            "grid_template_columns": null,
            "grid_template_rows": null,
            "height": null,
            "justify_content": null,
            "justify_items": null,
            "left": null,
            "margin": null,
            "max_height": null,
            "max_width": null,
            "min_height": null,
            "min_width": null,
            "object_fit": null,
            "object_position": null,
            "order": null,
            "overflow": null,
            "overflow_x": null,
            "overflow_y": null,
            "padding": null,
            "right": null,
            "top": null,
            "visibility": null,
            "width": null
          }
        },
        "e3d7dd2a3e804093adab5671631f53e8": {
          "model_module": "@jupyter-widgets/base",
          "model_name": "LayoutModel",
          "model_module_version": "1.2.0",
          "state": {
            "_model_module": "@jupyter-widgets/base",
            "_model_module_version": "1.2.0",
            "_model_name": "LayoutModel",
            "_view_count": null,
            "_view_module": "@jupyter-widgets/base",
            "_view_module_version": "1.2.0",
            "_view_name": "LayoutView",
            "align_content": null,
            "align_items": null,
            "align_self": null,
            "border": null,
            "bottom": null,
            "display": null,
            "flex": null,
            "flex_flow": null,
            "grid_area": null,
            "grid_auto_columns": null,
            "grid_auto_flow": null,
            "grid_auto_rows": null,
            "grid_column": null,
            "grid_gap": null,
            "grid_row": null,
            "grid_template_areas": null,
            "grid_template_columns": null,
            "grid_template_rows": null,
            "height": null,
            "justify_content": null,
            "justify_items": null,
            "left": null,
            "margin": null,
            "max_height": null,
            "max_width": null,
            "min_height": null,
            "min_width": null,
            "object_fit": null,
            "object_position": null,
            "order": null,
            "overflow": null,
            "overflow_x": null,
            "overflow_y": null,
            "padding": null,
            "right": null,
            "top": null,
            "visibility": null,
            "width": null
          }
        },
        "d0f1efcbc458490cab94f028153e7283": {
          "model_module": "@jupyter-widgets/controls",
          "model_name": "DescriptionStyleModel",
          "model_module_version": "1.5.0",
          "state": {
            "_model_module": "@jupyter-widgets/controls",
            "_model_module_version": "1.5.0",
            "_model_name": "DescriptionStyleModel",
            "_view_count": null,
            "_view_module": "@jupyter-widgets/base",
            "_view_module_version": "1.2.0",
            "_view_name": "StyleView",
            "description_width": ""
          }
        },
        "13c11aa8568f4e159cba51588004af41": {
          "model_module": "@jupyter-widgets/base",
          "model_name": "LayoutModel",
          "model_module_version": "1.2.0",
          "state": {
            "_model_module": "@jupyter-widgets/base",
            "_model_module_version": "1.2.0",
            "_model_name": "LayoutModel",
            "_view_count": null,
            "_view_module": "@jupyter-widgets/base",
            "_view_module_version": "1.2.0",
            "_view_name": "LayoutView",
            "align_content": null,
            "align_items": null,
            "align_self": null,
            "border": null,
            "bottom": null,
            "display": null,
            "flex": null,
            "flex_flow": null,
            "grid_area": null,
            "grid_auto_columns": null,
            "grid_auto_flow": null,
            "grid_auto_rows": null,
            "grid_column": null,
            "grid_gap": null,
            "grid_row": null,
            "grid_template_areas": null,
            "grid_template_columns": null,
            "grid_template_rows": null,
            "height": null,
            "justify_content": null,
            "justify_items": null,
            "left": null,
            "margin": null,
            "max_height": null,
            "max_width": null,
            "min_height": null,
            "min_width": null,
            "object_fit": null,
            "object_position": null,
            "order": null,
            "overflow": null,
            "overflow_x": null,
            "overflow_y": null,
            "padding": null,
            "right": null,
            "top": null,
            "visibility": null,
            "width": null
          }
        },
        "5437033a82fb4ab1a15c21c9f9a9de44": {
          "model_module": "@jupyter-widgets/controls",
          "model_name": "ProgressStyleModel",
          "model_module_version": "1.5.0",
          "state": {
            "_model_module": "@jupyter-widgets/controls",
            "_model_module_version": "1.5.0",
            "_model_name": "ProgressStyleModel",
            "_view_count": null,
            "_view_module": "@jupyter-widgets/base",
            "_view_module_version": "1.2.0",
            "_view_name": "StyleView",
            "bar_color": null,
            "description_width": ""
          }
        },
        "d3b5c078e3c84df8a5bf1edcf05b765f": {
          "model_module": "@jupyter-widgets/base",
          "model_name": "LayoutModel",
          "model_module_version": "1.2.0",
          "state": {
            "_model_module": "@jupyter-widgets/base",
            "_model_module_version": "1.2.0",
            "_model_name": "LayoutModel",
            "_view_count": null,
            "_view_module": "@jupyter-widgets/base",
            "_view_module_version": "1.2.0",
            "_view_name": "LayoutView",
            "align_content": null,
            "align_items": null,
            "align_self": null,
            "border": null,
            "bottom": null,
            "display": null,
            "flex": null,
            "flex_flow": null,
            "grid_area": null,
            "grid_auto_columns": null,
            "grid_auto_flow": null,
            "grid_auto_rows": null,
            "grid_column": null,
            "grid_gap": null,
            "grid_row": null,
            "grid_template_areas": null,
            "grid_template_columns": null,
            "grid_template_rows": null,
            "height": null,
            "justify_content": null,
            "justify_items": null,
            "left": null,
            "margin": null,
            "max_height": null,
            "max_width": null,
            "min_height": null,
            "min_width": null,
            "object_fit": null,
            "object_position": null,
            "order": null,
            "overflow": null,
            "overflow_x": null,
            "overflow_y": null,
            "padding": null,
            "right": null,
            "top": null,
            "visibility": null,
            "width": null
          }
        },
        "f8f88f7b0e444bd9abac9a927897cc76": {
          "model_module": "@jupyter-widgets/controls",
          "model_name": "DescriptionStyleModel",
          "model_module_version": "1.5.0",
          "state": {
            "_model_module": "@jupyter-widgets/controls",
            "_model_module_version": "1.5.0",
            "_model_name": "DescriptionStyleModel",
            "_view_count": null,
            "_view_module": "@jupyter-widgets/base",
            "_view_module_version": "1.2.0",
            "_view_name": "StyleView",
            "description_width": ""
          }
        },
        "46f1e7c26ff3460184007ee8ff145fd7": {
          "model_module": "@jupyter-widgets/controls",
          "model_name": "HBoxModel",
          "model_module_version": "1.5.0",
          "state": {
            "_dom_classes": [],
            "_model_module": "@jupyter-widgets/controls",
            "_model_module_version": "1.5.0",
            "_model_name": "HBoxModel",
            "_view_count": null,
            "_view_module": "@jupyter-widgets/controls",
            "_view_module_version": "1.5.0",
            "_view_name": "HBoxView",
            "box_style": "",
            "children": [
              "IPY_MODEL_955bee57c5c246739881094a0cd24d3e",
              "IPY_MODEL_5569746c4f5c479f9b4e2e46249b536f",
              "IPY_MODEL_a4a0d2fbdea043b9a4a6c7a5aaa3703d"
            ],
            "layout": "IPY_MODEL_1e44ff6f8def47d68abae543073f905e"
          }
        },
        "955bee57c5c246739881094a0cd24d3e": {
          "model_module": "@jupyter-widgets/controls",
          "model_name": "HTMLModel",
          "model_module_version": "1.5.0",
          "state": {
            "_dom_classes": [],
            "_model_module": "@jupyter-widgets/controls",
            "_model_module_version": "1.5.0",
            "_model_name": "HTMLModel",
            "_view_count": null,
            "_view_module": "@jupyter-widgets/controls",
            "_view_module_version": "1.5.0",
            "_view_name": "HTMLView",
            "description": "",
            "description_tooltip": null,
            "layout": "IPY_MODEL_98c5acf882f443ca9ffaaf11fa3613dc",
            "placeholder": "​",
            "style": "IPY_MODEL_25856698f1ed44d3a0daaf48c2249a3b",
            "value": "100%"
          }
        },
        "5569746c4f5c479f9b4e2e46249b536f": {
          "model_module": "@jupyter-widgets/controls",
          "model_name": "FloatProgressModel",
          "model_module_version": "1.5.0",
          "state": {
            "_dom_classes": [],
            "_model_module": "@jupyter-widgets/controls",
            "_model_module_version": "1.5.0",
            "_model_name": "FloatProgressModel",
            "_view_count": null,
            "_view_module": "@jupyter-widgets/controls",
            "_view_module_version": "1.5.0",
            "_view_name": "ProgressView",
            "bar_style": "success",
            "description": "",
            "description_tooltip": null,
            "layout": "IPY_MODEL_01ef3f28209e466489febc427f4b3909",
            "max": 5148,
            "min": 0,
            "orientation": "horizontal",
            "style": "IPY_MODEL_380d2b92f1eb41639e0fe68f9546e1c6",
            "value": 5148
          }
        },
        "a4a0d2fbdea043b9a4a6c7a5aaa3703d": {
          "model_module": "@jupyter-widgets/controls",
          "model_name": "HTMLModel",
          "model_module_version": "1.5.0",
          "state": {
            "_dom_classes": [],
            "_model_module": "@jupyter-widgets/controls",
            "_model_module_version": "1.5.0",
            "_model_name": "HTMLModel",
            "_view_count": null,
            "_view_module": "@jupyter-widgets/controls",
            "_view_module_version": "1.5.0",
            "_view_name": "HTMLView",
            "description": "",
            "description_tooltip": null,
            "layout": "IPY_MODEL_4b54f0aecbaa4d649f78c8fb48bae360",
            "placeholder": "​",
            "style": "IPY_MODEL_99530449c3c24b909cef516950d4a9bd",
            "value": " 5148/5148 [00:00&lt;00:00, 155956.09it/s]"
          }
        },
        "1e44ff6f8def47d68abae543073f905e": {
          "model_module": "@jupyter-widgets/base",
          "model_name": "LayoutModel",
          "model_module_version": "1.2.0",
          "state": {
            "_model_module": "@jupyter-widgets/base",
            "_model_module_version": "1.2.0",
            "_model_name": "LayoutModel",
            "_view_count": null,
            "_view_module": "@jupyter-widgets/base",
            "_view_module_version": "1.2.0",
            "_view_name": "LayoutView",
            "align_content": null,
            "align_items": null,
            "align_self": null,
            "border": null,
            "bottom": null,
            "display": null,
            "flex": null,
            "flex_flow": null,
            "grid_area": null,
            "grid_auto_columns": null,
            "grid_auto_flow": null,
            "grid_auto_rows": null,
            "grid_column": null,
            "grid_gap": null,
            "grid_row": null,
            "grid_template_areas": null,
            "grid_template_columns": null,
            "grid_template_rows": null,
            "height": null,
            "justify_content": null,
            "justify_items": null,
            "left": null,
            "margin": null,
            "max_height": null,
            "max_width": null,
            "min_height": null,
            "min_width": null,
            "object_fit": null,
            "object_position": null,
            "order": null,
            "overflow": null,
            "overflow_x": null,
            "overflow_y": null,
            "padding": null,
            "right": null,
            "top": null,
            "visibility": null,
            "width": null
          }
        },
        "98c5acf882f443ca9ffaaf11fa3613dc": {
          "model_module": "@jupyter-widgets/base",
          "model_name": "LayoutModel",
          "model_module_version": "1.2.0",
          "state": {
            "_model_module": "@jupyter-widgets/base",
            "_model_module_version": "1.2.0",
            "_model_name": "LayoutModel",
            "_view_count": null,
            "_view_module": "@jupyter-widgets/base",
            "_view_module_version": "1.2.0",
            "_view_name": "LayoutView",
            "align_content": null,
            "align_items": null,
            "align_self": null,
            "border": null,
            "bottom": null,
            "display": null,
            "flex": null,
            "flex_flow": null,
            "grid_area": null,
            "grid_auto_columns": null,
            "grid_auto_flow": null,
            "grid_auto_rows": null,
            "grid_column": null,
            "grid_gap": null,
            "grid_row": null,
            "grid_template_areas": null,
            "grid_template_columns": null,
            "grid_template_rows": null,
            "height": null,
            "justify_content": null,
            "justify_items": null,
            "left": null,
            "margin": null,
            "max_height": null,
            "max_width": null,
            "min_height": null,
            "min_width": null,
            "object_fit": null,
            "object_position": null,
            "order": null,
            "overflow": null,
            "overflow_x": null,
            "overflow_y": null,
            "padding": null,
            "right": null,
            "top": null,
            "visibility": null,
            "width": null
          }
        },
        "25856698f1ed44d3a0daaf48c2249a3b": {
          "model_module": "@jupyter-widgets/controls",
          "model_name": "DescriptionStyleModel",
          "model_module_version": "1.5.0",
          "state": {
            "_model_module": "@jupyter-widgets/controls",
            "_model_module_version": "1.5.0",
            "_model_name": "DescriptionStyleModel",
            "_view_count": null,
            "_view_module": "@jupyter-widgets/base",
            "_view_module_version": "1.2.0",
            "_view_name": "StyleView",
            "description_width": ""
          }
        },
        "01ef3f28209e466489febc427f4b3909": {
          "model_module": "@jupyter-widgets/base",
          "model_name": "LayoutModel",
          "model_module_version": "1.2.0",
          "state": {
            "_model_module": "@jupyter-widgets/base",
            "_model_module_version": "1.2.0",
            "_model_name": "LayoutModel",
            "_view_count": null,
            "_view_module": "@jupyter-widgets/base",
            "_view_module_version": "1.2.0",
            "_view_name": "LayoutView",
            "align_content": null,
            "align_items": null,
            "align_self": null,
            "border": null,
            "bottom": null,
            "display": null,
            "flex": null,
            "flex_flow": null,
            "grid_area": null,
            "grid_auto_columns": null,
            "grid_auto_flow": null,
            "grid_auto_rows": null,
            "grid_column": null,
            "grid_gap": null,
            "grid_row": null,
            "grid_template_areas": null,
            "grid_template_columns": null,
            "grid_template_rows": null,
            "height": null,
            "justify_content": null,
            "justify_items": null,
            "left": null,
            "margin": null,
            "max_height": null,
            "max_width": null,
            "min_height": null,
            "min_width": null,
            "object_fit": null,
            "object_position": null,
            "order": null,
            "overflow": null,
            "overflow_x": null,
            "overflow_y": null,
            "padding": null,
            "right": null,
            "top": null,
            "visibility": null,
            "width": null
          }
        },
        "380d2b92f1eb41639e0fe68f9546e1c6": {
          "model_module": "@jupyter-widgets/controls",
          "model_name": "ProgressStyleModel",
          "model_module_version": "1.5.0",
          "state": {
            "_model_module": "@jupyter-widgets/controls",
            "_model_module_version": "1.5.0",
            "_model_name": "ProgressStyleModel",
            "_view_count": null,
            "_view_module": "@jupyter-widgets/base",
            "_view_module_version": "1.2.0",
            "_view_name": "StyleView",
            "bar_color": null,
            "description_width": ""
          }
        },
        "4b54f0aecbaa4d649f78c8fb48bae360": {
          "model_module": "@jupyter-widgets/base",
          "model_name": "LayoutModel",
          "model_module_version": "1.2.0",
          "state": {
            "_model_module": "@jupyter-widgets/base",
            "_model_module_version": "1.2.0",
            "_model_name": "LayoutModel",
            "_view_count": null,
            "_view_module": "@jupyter-widgets/base",
            "_view_module_version": "1.2.0",
            "_view_name": "LayoutView",
            "align_content": null,
            "align_items": null,
            "align_self": null,
            "border": null,
            "bottom": null,
            "display": null,
            "flex": null,
            "flex_flow": null,
            "grid_area": null,
            "grid_auto_columns": null,
            "grid_auto_flow": null,
            "grid_auto_rows": null,
            "grid_column": null,
            "grid_gap": null,
            "grid_row": null,
            "grid_template_areas": null,
            "grid_template_columns": null,
            "grid_template_rows": null,
            "height": null,
            "justify_content": null,
            "justify_items": null,
            "left": null,
            "margin": null,
            "max_height": null,
            "max_width": null,
            "min_height": null,
            "min_width": null,
            "object_fit": null,
            "object_position": null,
            "order": null,
            "overflow": null,
            "overflow_x": null,
            "overflow_y": null,
            "padding": null,
            "right": null,
            "top": null,
            "visibility": null,
            "width": null
          }
        },
        "99530449c3c24b909cef516950d4a9bd": {
          "model_module": "@jupyter-widgets/controls",
          "model_name": "DescriptionStyleModel",
          "model_module_version": "1.5.0",
          "state": {
            "_model_module": "@jupyter-widgets/controls",
            "_model_module_version": "1.5.0",
            "_model_name": "DescriptionStyleModel",
            "_view_count": null,
            "_view_module": "@jupyter-widgets/base",
            "_view_module_version": "1.2.0",
            "_view_name": "StyleView",
            "description_width": ""
          }
        }
      }
    }
  },
  "nbformat": 4,
  "nbformat_minor": 5
}